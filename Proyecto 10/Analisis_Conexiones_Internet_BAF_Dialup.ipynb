{
 "cells": [
  {
   "cell_type": "markdown",
   "id": "d1f5ebcd",
   "metadata": {},
   "source": [
    "# Análisis de Conexiones de Internet Banda Ancha Fija y Dial-up en un Período de Tiempo"
   ]
  },
  {
   "cell_type": "markdown",
   "id": "787fb4fd",
   "metadata": {},
   "source": [
    "Objetivo del Proyecto:\n",
    "\n",
    "El objetivo de este proyecto es realizar un análisis detallado de las tendencias y patrones en las conexiones de Internet de banda ancha fija y Dial-up a lo largo de varios años. Se busca identificar la evolución del número total de conexiones de banda ancha fija a través del tiempo, determinar el trimestre con el mayor número de conexiones de banda ancha fija en 2019, investigar posibles tendencias a lo largo de los trimestres, identificar el año con el mayor aumento en las conexiones de banda ancha fija, comparar el número de conexiones de Dial-up en los primeros y últimos trimestres de cada año, encontrar el trimestre con el menor número total de conexiones en 2016, calcular el porcentaje de cambio en el número total de conexiones de banda ancha fija de 2018 a 2019, identificar el trimestre con la menor cantidad de conexiones de Dial-up en el conjunto de datos, y analizar la distribución de las conexiones de Dial-up en comparación con las conexiones de banda ancha fija en el último trimestre registrado. El proyecto busca proporcionar información valiosa sobre el uso de diferentes tipos de conexiones de Internet en un período de tiempo específico, lo que puede ayudar a comprender mejor las preferencias y tendencias de los usuarios."
   ]
  },
  {
   "cell_type": "markdown",
   "id": "a804d783",
   "metadata": {},
   "source": [
    "# Importaciones del Archivo"
   ]
  },
  {
   "cell_type": "code",
   "execution_count": 29,
   "id": "2550170b",
   "metadata": {},
   "outputs": [],
   "source": [
    "import os\n",
    "import pandas as pd\n",
    "# Obtiene el directorio actual\n",
    "directorio_actual = os.getcwd()\n",
    "\n",
    "# Nombre del archivo CSV que se desea abrir\n",
    "nombre_archivo = \"Internet_BAF.csv\"\n",
    "\n",
    "# Se Construye la ruta completa del archivo utilizando os.path.join\n",
    "ruta_completa = os.path.join(directorio_actual, nombre_archivo)\n",
    "\n",
    "# Verifico si el archivo existe antes de intentar abrirlo\n",
    "if os.path.exists(ruta_completa):\n",
    "    # Abre el archivo CSV utilizando pandas\n",
    "    df = pd.read_csv(ruta_completa)\n",
    "\n",
    "else:\n",
    "    print(f\"El archivo {nombre_archivo} no existe en el directorio actual.\")"
   ]
  },
  {
   "cell_type": "code",
   "execution_count": 30,
   "id": "b4efc538",
   "metadata": {},
   "outputs": [
    {
     "data": {
      "text/plain": [
       "pandas.core.frame.DataFrame"
      ]
     },
     "execution_count": 30,
     "metadata": {},
     "output_type": "execute_result"
    }
   ],
   "source": [
    "type(df)"
   ]
  },
  {
   "cell_type": "code",
   "execution_count": 31,
   "id": "89041b6d",
   "metadata": {},
   "outputs": [
    {
     "data": {
      "text/html": [
       "<div>\n",
       "<style scoped>\n",
       "    .dataframe tbody tr th:only-of-type {\n",
       "        vertical-align: middle;\n",
       "    }\n",
       "\n",
       "    .dataframe tbody tr th {\n",
       "        vertical-align: top;\n",
       "    }\n",
       "\n",
       "    .dataframe thead th {\n",
       "        text-align: right;\n",
       "    }\n",
       "</style>\n",
       "<table border=\"1\" class=\"dataframe\">\n",
       "  <thead>\n",
       "    <tr style=\"text-align: right;\">\n",
       "      <th></th>\n",
       "      <th>Año</th>\n",
       "      <th>Trimestre</th>\n",
       "      <th>Banda ancha fija</th>\n",
       "      <th>Dial up</th>\n",
       "      <th>Total</th>\n",
       "      <th>Period</th>\n",
       "    </tr>\n",
       "  </thead>\n",
       "  <tbody>\n",
       "    <tr>\n",
       "      <th>0</th>\n",
       "      <td>2023</td>\n",
       "      <td>1</td>\n",
       "      <td>11.229.459</td>\n",
       "      <td>12.436</td>\n",
       "      <td>11.241.895</td>\n",
       "      <td>Ene-Mar 2023</td>\n",
       "    </tr>\n",
       "    <tr>\n",
       "      <th>1</th>\n",
       "      <td>2022</td>\n",
       "      <td>4</td>\n",
       "      <td>11.195.668</td>\n",
       "      <td>12.446</td>\n",
       "      <td>11.208.114</td>\n",
       "      <td>Oct-Dic 2022</td>\n",
       "    </tr>\n",
       "    <tr>\n",
       "      <th>2</th>\n",
       "      <td>2022</td>\n",
       "      <td>3</td>\n",
       "      <td>11.078.691</td>\n",
       "      <td>12.437</td>\n",
       "      <td>11.091.128</td>\n",
       "      <td>Jul-Sept 2022</td>\n",
       "    </tr>\n",
       "    <tr>\n",
       "      <th>3</th>\n",
       "      <td>2022</td>\n",
       "      <td>2</td>\n",
       "      <td>10.946.248</td>\n",
       "      <td>12.436</td>\n",
       "      <td>10.958.684</td>\n",
       "      <td>Abr-Jun 2022</td>\n",
       "    </tr>\n",
       "    <tr>\n",
       "      <th>4</th>\n",
       "      <td>2022</td>\n",
       "      <td>1</td>\n",
       "      <td>10.611.390</td>\n",
       "      <td>12.619</td>\n",
       "      <td>10.624.009</td>\n",
       "      <td>Ene-Mar 2022</td>\n",
       "    </tr>\n",
       "    <tr>\n",
       "      <th>5</th>\n",
       "      <td>2021</td>\n",
       "      <td>4</td>\n",
       "      <td>10.476.933</td>\n",
       "      <td>12.861</td>\n",
       "      <td>10.489.794</td>\n",
       "      <td>Oct-Dic 2021</td>\n",
       "    </tr>\n",
       "    <tr>\n",
       "      <th>6</th>\n",
       "      <td>2021</td>\n",
       "      <td>3</td>\n",
       "      <td>10.075.184</td>\n",
       "      <td>10.357</td>\n",
       "      <td>10.085.541</td>\n",
       "      <td>Jul-Sept 2021</td>\n",
       "    </tr>\n",
       "    <tr>\n",
       "      <th>7</th>\n",
       "      <td>2021</td>\n",
       "      <td>2</td>\n",
       "      <td>9.852.702</td>\n",
       "      <td>10.382</td>\n",
       "      <td>9.863.084</td>\n",
       "      <td>Abr-Jun 2021</td>\n",
       "    </tr>\n",
       "    <tr>\n",
       "      <th>8</th>\n",
       "      <td>2021</td>\n",
       "      <td>1</td>\n",
       "      <td>9.637.956</td>\n",
       "      <td>10.016</td>\n",
       "      <td>9.647.972</td>\n",
       "      <td>Ene-Mar 2021</td>\n",
       "    </tr>\n",
       "    <tr>\n",
       "      <th>9</th>\n",
       "      <td>2020</td>\n",
       "      <td>4</td>\n",
       "      <td>9.561.546</td>\n",
       "      <td>10.016</td>\n",
       "      <td>9.571.562</td>\n",
       "      <td>Oct-Dic 2020</td>\n",
       "    </tr>\n",
       "    <tr>\n",
       "      <th>10</th>\n",
       "      <td>2020</td>\n",
       "      <td>3</td>\n",
       "      <td>9.346.183</td>\n",
       "      <td>10.016</td>\n",
       "      <td>9.356.199</td>\n",
       "      <td>Jul-Sept 2020</td>\n",
       "    </tr>\n",
       "    <tr>\n",
       "      <th>11</th>\n",
       "      <td>2020</td>\n",
       "      <td>2</td>\n",
       "      <td>9.021.040</td>\n",
       "      <td>10.016</td>\n",
       "      <td>9.031.056</td>\n",
       "      <td>Abr-Jun 2020</td>\n",
       "    </tr>\n",
       "    <tr>\n",
       "      <th>12</th>\n",
       "      <td>2020</td>\n",
       "      <td>1</td>\n",
       "      <td>8.802.435</td>\n",
       "      <td>9.991</td>\n",
       "      <td>8.812.426</td>\n",
       "      <td>Ene-Mar 2020</td>\n",
       "    </tr>\n",
       "    <tr>\n",
       "      <th>13</th>\n",
       "      <td>2019</td>\n",
       "      <td>4</td>\n",
       "      <td>8.783.053</td>\n",
       "      <td>10.128</td>\n",
       "      <td>8.793.181</td>\n",
       "      <td>Oct-Dic 2019</td>\n",
       "    </tr>\n",
       "    <tr>\n",
       "      <th>14</th>\n",
       "      <td>2019</td>\n",
       "      <td>3</td>\n",
       "      <td>9.142.891</td>\n",
       "      <td>21.793</td>\n",
       "      <td>9.164.684</td>\n",
       "      <td>Jul-Sept 2019</td>\n",
       "    </tr>\n",
       "    <tr>\n",
       "      <th>15</th>\n",
       "      <td>2019</td>\n",
       "      <td>2</td>\n",
       "      <td>8.938.427</td>\n",
       "      <td>21.754</td>\n",
       "      <td>8.960.181</td>\n",
       "      <td>Abr-Jun 2019</td>\n",
       "    </tr>\n",
       "    <tr>\n",
       "      <th>16</th>\n",
       "      <td>2019</td>\n",
       "      <td>1</td>\n",
       "      <td>8.626.323</td>\n",
       "      <td>21.812</td>\n",
       "      <td>8.648.135</td>\n",
       "      <td>Ene-Mar 2019</td>\n",
       "    </tr>\n",
       "    <tr>\n",
       "      <th>17</th>\n",
       "      <td>2018</td>\n",
       "      <td>4</td>\n",
       "      <td>8.451.841</td>\n",
       "      <td>21.814</td>\n",
       "      <td>8.473.655</td>\n",
       "      <td>Oct-Dic 2018</td>\n",
       "    </tr>\n",
       "    <tr>\n",
       "      <th>18</th>\n",
       "      <td>2018</td>\n",
       "      <td>3</td>\n",
       "      <td>8.320.223</td>\n",
       "      <td>26.812</td>\n",
       "      <td>8.347.035</td>\n",
       "      <td>Jul-Sept 2018</td>\n",
       "    </tr>\n",
       "    <tr>\n",
       "      <th>19</th>\n",
       "      <td>2018</td>\n",
       "      <td>2</td>\n",
       "      <td>8.083.533</td>\n",
       "      <td>26.911</td>\n",
       "      <td>8.110.444</td>\n",
       "      <td>Abr-Jun 2018</td>\n",
       "    </tr>\n",
       "    <tr>\n",
       "      <th>20</th>\n",
       "      <td>2018</td>\n",
       "      <td>1</td>\n",
       "      <td>8.009.981</td>\n",
       "      <td>27.072</td>\n",
       "      <td>8.037.053</td>\n",
       "      <td>Ene-Mar 2018</td>\n",
       "    </tr>\n",
       "    <tr>\n",
       "      <th>21</th>\n",
       "      <td>2017</td>\n",
       "      <td>4</td>\n",
       "      <td>7.842.778</td>\n",
       "      <td>27.444</td>\n",
       "      <td>7.870.222</td>\n",
       "      <td>Oct-Dic 2017</td>\n",
       "    </tr>\n",
       "    <tr>\n",
       "      <th>22</th>\n",
       "      <td>2017</td>\n",
       "      <td>3</td>\n",
       "      <td>7.696.594</td>\n",
       "      <td>28.349</td>\n",
       "      <td>7.724.943</td>\n",
       "      <td>Jul-Sept 2017</td>\n",
       "    </tr>\n",
       "    <tr>\n",
       "      <th>23</th>\n",
       "      <td>2017</td>\n",
       "      <td>2</td>\n",
       "      <td>7.401.134</td>\n",
       "      <td>28.530</td>\n",
       "      <td>7.429.664</td>\n",
       "      <td>Abr-Jun 2017</td>\n",
       "    </tr>\n",
       "    <tr>\n",
       "      <th>24</th>\n",
       "      <td>2017</td>\n",
       "      <td>1</td>\n",
       "      <td>7.277.314</td>\n",
       "      <td>28.540</td>\n",
       "      <td>7.305.854</td>\n",
       "      <td>Ene-Mar 2017</td>\n",
       "    </tr>\n",
       "    <tr>\n",
       "      <th>25</th>\n",
       "      <td>2016</td>\n",
       "      <td>4</td>\n",
       "      <td>7.223.128</td>\n",
       "      <td>28.545</td>\n",
       "      <td>7.251.673</td>\n",
       "      <td>Oct-Dic 2016</td>\n",
       "    </tr>\n",
       "    <tr>\n",
       "      <th>26</th>\n",
       "      <td>2016</td>\n",
       "      <td>3</td>\n",
       "      <td>7.178.340</td>\n",
       "      <td>28.610</td>\n",
       "      <td>7.206.950</td>\n",
       "      <td>Jul-Sept 2016</td>\n",
       "    </tr>\n",
       "    <tr>\n",
       "      <th>27</th>\n",
       "      <td>2016</td>\n",
       "      <td>2</td>\n",
       "      <td>7.097.604</td>\n",
       "      <td>32.475</td>\n",
       "      <td>7.130.079</td>\n",
       "      <td>Abr-Jun 2016</td>\n",
       "    </tr>\n",
       "    <tr>\n",
       "      <th>28</th>\n",
       "      <td>2016</td>\n",
       "      <td>1</td>\n",
       "      <td>6.874.704</td>\n",
       "      <td>32.652</td>\n",
       "      <td>6.907.356</td>\n",
       "      <td>Ene-Mar 2016</td>\n",
       "    </tr>\n",
       "    <tr>\n",
       "      <th>29</th>\n",
       "      <td>2015</td>\n",
       "      <td>4</td>\n",
       "      <td>6.952.289</td>\n",
       "      <td>32.542</td>\n",
       "      <td>6.984.831</td>\n",
       "      <td>Oct-Dic 2015</td>\n",
       "    </tr>\n",
       "    <tr>\n",
       "      <th>30</th>\n",
       "      <td>2015</td>\n",
       "      <td>3</td>\n",
       "      <td>6.902.267</td>\n",
       "      <td>32.801</td>\n",
       "      <td>6.935.068</td>\n",
       "      <td>Jul-Sept 2015</td>\n",
       "    </tr>\n",
       "    <tr>\n",
       "      <th>31</th>\n",
       "      <td>2015</td>\n",
       "      <td>2</td>\n",
       "      <td>6.783.279</td>\n",
       "      <td>32.909</td>\n",
       "      <td>6.816.188</td>\n",
       "      <td>Abr-Jun 2015</td>\n",
       "    </tr>\n",
       "    <tr>\n",
       "      <th>32</th>\n",
       "      <td>2015</td>\n",
       "      <td>1</td>\n",
       "      <td>6.699.714</td>\n",
       "      <td>38.018</td>\n",
       "      <td>6.737.732</td>\n",
       "      <td>Ene-Mar 2015</td>\n",
       "    </tr>\n",
       "    <tr>\n",
       "      <th>33</th>\n",
       "      <td>2014</td>\n",
       "      <td>4</td>\n",
       "      <td>6.559.172</td>\n",
       "      <td>39.324</td>\n",
       "      <td>6.598.496</td>\n",
       "      <td>Oct-Dic 2014</td>\n",
       "    </tr>\n",
       "    <tr>\n",
       "      <th>34</th>\n",
       "      <td>2014</td>\n",
       "      <td>3</td>\n",
       "      <td>6.559.264</td>\n",
       "      <td>36.007</td>\n",
       "      <td>6.595.271</td>\n",
       "      <td>Jul-Sept 2014</td>\n",
       "    </tr>\n",
       "    <tr>\n",
       "      <th>35</th>\n",
       "      <td>2014</td>\n",
       "      <td>2</td>\n",
       "      <td>6.428.329</td>\n",
       "      <td>36.139</td>\n",
       "      <td>6.464.468</td>\n",
       "      <td>Abr-Jun 2014</td>\n",
       "    </tr>\n",
       "    <tr>\n",
       "      <th>36</th>\n",
       "      <td>2014</td>\n",
       "      <td>1</td>\n",
       "      <td>6.362.108</td>\n",
       "      <td>36.290</td>\n",
       "      <td>6.398.398</td>\n",
       "      <td>Ene-Mar 2014</td>\n",
       "    </tr>\n",
       "  </tbody>\n",
       "</table>\n",
       "</div>"
      ],
      "text/plain": [
       "     Año  Trimestre Banda ancha fija  Dial up       Total         Period\n",
       "0   2023          1       11.229.459   12.436  11.241.895   Ene-Mar 2023\n",
       "1   2022          4       11.195.668   12.446  11.208.114   Oct-Dic 2022\n",
       "2   2022          3       11.078.691   12.437  11.091.128  Jul-Sept 2022\n",
       "3   2022          2       10.946.248   12.436  10.958.684   Abr-Jun 2022\n",
       "4   2022          1       10.611.390   12.619  10.624.009   Ene-Mar 2022\n",
       "5   2021          4       10.476.933   12.861  10.489.794   Oct-Dic 2021\n",
       "6   2021          3       10.075.184   10.357  10.085.541  Jul-Sept 2021\n",
       "7   2021          2        9.852.702   10.382   9.863.084   Abr-Jun 2021\n",
       "8   2021          1        9.637.956   10.016   9.647.972   Ene-Mar 2021\n",
       "9   2020          4        9.561.546   10.016   9.571.562   Oct-Dic 2020\n",
       "10  2020          3        9.346.183   10.016   9.356.199  Jul-Sept 2020\n",
       "11  2020          2        9.021.040   10.016   9.031.056   Abr-Jun 2020\n",
       "12  2020          1        8.802.435    9.991   8.812.426   Ene-Mar 2020\n",
       "13  2019          4        8.783.053   10.128   8.793.181   Oct-Dic 2019\n",
       "14  2019          3        9.142.891   21.793   9.164.684  Jul-Sept 2019\n",
       "15  2019          2        8.938.427   21.754   8.960.181   Abr-Jun 2019\n",
       "16  2019          1        8.626.323   21.812   8.648.135   Ene-Mar 2019\n",
       "17  2018          4        8.451.841   21.814   8.473.655   Oct-Dic 2018\n",
       "18  2018          3        8.320.223   26.812   8.347.035  Jul-Sept 2018\n",
       "19  2018          2        8.083.533   26.911   8.110.444   Abr-Jun 2018\n",
       "20  2018          1        8.009.981   27.072   8.037.053   Ene-Mar 2018\n",
       "21  2017          4        7.842.778   27.444   7.870.222   Oct-Dic 2017\n",
       "22  2017          3        7.696.594   28.349   7.724.943  Jul-Sept 2017\n",
       "23  2017          2        7.401.134   28.530   7.429.664   Abr-Jun 2017\n",
       "24  2017          1        7.277.314   28.540   7.305.854   Ene-Mar 2017\n",
       "25  2016          4        7.223.128   28.545   7.251.673   Oct-Dic 2016\n",
       "26  2016          3        7.178.340   28.610   7.206.950  Jul-Sept 2016\n",
       "27  2016          2        7.097.604   32.475   7.130.079   Abr-Jun 2016\n",
       "28  2016          1        6.874.704   32.652   6.907.356   Ene-Mar 2016\n",
       "29  2015          4        6.952.289   32.542   6.984.831   Oct-Dic 2015\n",
       "30  2015          3        6.902.267   32.801   6.935.068  Jul-Sept 2015\n",
       "31  2015          2        6.783.279   32.909   6.816.188   Abr-Jun 2015\n",
       "32  2015          1        6.699.714   38.018   6.737.732   Ene-Mar 2015\n",
       "33  2014          4        6.559.172   39.324   6.598.496   Oct-Dic 2014\n",
       "34  2014          3        6.559.264   36.007   6.595.271  Jul-Sept 2014\n",
       "35  2014          2        6.428.329   36.139   6.464.468   Abr-Jun 2014\n",
       "36  2014          1        6.362.108   36.290   6.398.398   Ene-Mar 2014"
      ]
     },
     "execution_count": 31,
     "metadata": {},
     "output_type": "execute_result"
    }
   ],
   "source": [
    "df"
   ]
  },
  {
   "cell_type": "markdown",
   "id": "b1d251b7",
   "metadata": {},
   "source": [
    "# Consulta y Limpieza de Datos"
   ]
  },
  {
   "cell_type": "code",
   "execution_count": 32,
   "id": "a78089cb",
   "metadata": {},
   "outputs": [
    {
     "data": {
      "text/html": [
       "<div>\n",
       "<style scoped>\n",
       "    .dataframe tbody tr th:only-of-type {\n",
       "        vertical-align: middle;\n",
       "    }\n",
       "\n",
       "    .dataframe tbody tr th {\n",
       "        vertical-align: top;\n",
       "    }\n",
       "\n",
       "    .dataframe thead th {\n",
       "        text-align: right;\n",
       "    }\n",
       "</style>\n",
       "<table border=\"1\" class=\"dataframe\">\n",
       "  <thead>\n",
       "    <tr style=\"text-align: right;\">\n",
       "      <th></th>\n",
       "      <th>Año</th>\n",
       "      <th>Trimestre</th>\n",
       "      <th>Banda ancha fija</th>\n",
       "      <th>Dial up</th>\n",
       "      <th>Total</th>\n",
       "      <th>Period</th>\n",
       "    </tr>\n",
       "  </thead>\n",
       "  <tbody>\n",
       "    <tr>\n",
       "      <th>0</th>\n",
       "      <td>2023</td>\n",
       "      <td>1</td>\n",
       "      <td>11.229.459</td>\n",
       "      <td>12.436</td>\n",
       "      <td>11.241.895</td>\n",
       "      <td>Ene-Mar 2023</td>\n",
       "    </tr>\n",
       "    <tr>\n",
       "      <th>1</th>\n",
       "      <td>2022</td>\n",
       "      <td>4</td>\n",
       "      <td>11.195.668</td>\n",
       "      <td>12.446</td>\n",
       "      <td>11.208.114</td>\n",
       "      <td>Oct-Dic 2022</td>\n",
       "    </tr>\n",
       "    <tr>\n",
       "      <th>2</th>\n",
       "      <td>2022</td>\n",
       "      <td>3</td>\n",
       "      <td>11.078.691</td>\n",
       "      <td>12.437</td>\n",
       "      <td>11.091.128</td>\n",
       "      <td>Jul-Sept 2022</td>\n",
       "    </tr>\n",
       "    <tr>\n",
       "      <th>3</th>\n",
       "      <td>2022</td>\n",
       "      <td>2</td>\n",
       "      <td>10.946.248</td>\n",
       "      <td>12.436</td>\n",
       "      <td>10.958.684</td>\n",
       "      <td>Abr-Jun 2022</td>\n",
       "    </tr>\n",
       "    <tr>\n",
       "      <th>4</th>\n",
       "      <td>2022</td>\n",
       "      <td>1</td>\n",
       "      <td>10.611.390</td>\n",
       "      <td>12.619</td>\n",
       "      <td>10.624.009</td>\n",
       "      <td>Ene-Mar 2022</td>\n",
       "    </tr>\n",
       "  </tbody>\n",
       "</table>\n",
       "</div>"
      ],
      "text/plain": [
       "    Año  Trimestre Banda ancha fija  Dial up       Total         Period\n",
       "0  2023          1       11.229.459   12.436  11.241.895   Ene-Mar 2023\n",
       "1  2022          4       11.195.668   12.446  11.208.114   Oct-Dic 2022\n",
       "2  2022          3       11.078.691   12.437  11.091.128  Jul-Sept 2022\n",
       "3  2022          2       10.946.248   12.436  10.958.684   Abr-Jun 2022\n",
       "4  2022          1       10.611.390   12.619  10.624.009   Ene-Mar 2022"
      ]
     },
     "execution_count": 32,
     "metadata": {},
     "output_type": "execute_result"
    }
   ],
   "source": [
    "df.head()"
   ]
  },
  {
   "cell_type": "code",
   "execution_count": 33,
   "id": "3b36b39c",
   "metadata": {},
   "outputs": [
    {
     "data": {
      "text/html": [
       "<div>\n",
       "<style scoped>\n",
       "    .dataframe tbody tr th:only-of-type {\n",
       "        vertical-align: middle;\n",
       "    }\n",
       "\n",
       "    .dataframe tbody tr th {\n",
       "        vertical-align: top;\n",
       "    }\n",
       "\n",
       "    .dataframe thead th {\n",
       "        text-align: right;\n",
       "    }\n",
       "</style>\n",
       "<table border=\"1\" class=\"dataframe\">\n",
       "  <thead>\n",
       "    <tr style=\"text-align: right;\">\n",
       "      <th></th>\n",
       "      <th>Año</th>\n",
       "      <th>Trimestre</th>\n",
       "      <th>Banda ancha fija</th>\n",
       "      <th>Dial up</th>\n",
       "      <th>Total</th>\n",
       "      <th>Period</th>\n",
       "    </tr>\n",
       "  </thead>\n",
       "  <tbody>\n",
       "    <tr>\n",
       "      <th>32</th>\n",
       "      <td>2015</td>\n",
       "      <td>1</td>\n",
       "      <td>6.699.714</td>\n",
       "      <td>38.018</td>\n",
       "      <td>6.737.732</td>\n",
       "      <td>Ene-Mar 2015</td>\n",
       "    </tr>\n",
       "    <tr>\n",
       "      <th>33</th>\n",
       "      <td>2014</td>\n",
       "      <td>4</td>\n",
       "      <td>6.559.172</td>\n",
       "      <td>39.324</td>\n",
       "      <td>6.598.496</td>\n",
       "      <td>Oct-Dic 2014</td>\n",
       "    </tr>\n",
       "    <tr>\n",
       "      <th>34</th>\n",
       "      <td>2014</td>\n",
       "      <td>3</td>\n",
       "      <td>6.559.264</td>\n",
       "      <td>36.007</td>\n",
       "      <td>6.595.271</td>\n",
       "      <td>Jul-Sept 2014</td>\n",
       "    </tr>\n",
       "    <tr>\n",
       "      <th>35</th>\n",
       "      <td>2014</td>\n",
       "      <td>2</td>\n",
       "      <td>6.428.329</td>\n",
       "      <td>36.139</td>\n",
       "      <td>6.464.468</td>\n",
       "      <td>Abr-Jun 2014</td>\n",
       "    </tr>\n",
       "    <tr>\n",
       "      <th>36</th>\n",
       "      <td>2014</td>\n",
       "      <td>1</td>\n",
       "      <td>6.362.108</td>\n",
       "      <td>36.290</td>\n",
       "      <td>6.398.398</td>\n",
       "      <td>Ene-Mar 2014</td>\n",
       "    </tr>\n",
       "  </tbody>\n",
       "</table>\n",
       "</div>"
      ],
      "text/plain": [
       "     Año  Trimestre Banda ancha fija  Dial up      Total         Period\n",
       "32  2015          1        6.699.714   38.018  6.737.732   Ene-Mar 2015\n",
       "33  2014          4        6.559.172   39.324  6.598.496   Oct-Dic 2014\n",
       "34  2014          3        6.559.264   36.007  6.595.271  Jul-Sept 2014\n",
       "35  2014          2        6.428.329   36.139  6.464.468   Abr-Jun 2014\n",
       "36  2014          1        6.362.108   36.290  6.398.398   Ene-Mar 2014"
      ]
     },
     "execution_count": 33,
     "metadata": {},
     "output_type": "execute_result"
    }
   ],
   "source": [
    "df.tail()"
   ]
  },
  {
   "cell_type": "code",
   "execution_count": 34,
   "id": "a84eaa9f",
   "metadata": {},
   "outputs": [
    {
     "data": {
      "text/plain": [
       "(37, 6)"
      ]
     },
     "execution_count": 34,
     "metadata": {},
     "output_type": "execute_result"
    }
   ],
   "source": [
    "df.shape"
   ]
  },
  {
   "cell_type": "code",
   "execution_count": 35,
   "id": "2e95ec9d",
   "metadata": {},
   "outputs": [
    {
     "name": "stdout",
     "output_type": "stream",
     "text": [
      "<class 'pandas.core.frame.DataFrame'>\n",
      "RangeIndex: 37 entries, 0 to 36\n",
      "Data columns (total 6 columns):\n",
      " #   Column            Non-Null Count  Dtype  \n",
      "---  ------            --------------  -----  \n",
      " 0   Año               37 non-null     int64  \n",
      " 1   Trimestre         37 non-null     int64  \n",
      " 2   Banda ancha fija  37 non-null     object \n",
      " 3   Dial up           37 non-null     float64\n",
      " 4   Total             37 non-null     object \n",
      " 5   Period            37 non-null     object \n",
      "dtypes: float64(1), int64(2), object(3)\n",
      "memory usage: 1.9+ KB\n"
     ]
    }
   ],
   "source": [
    "df.info()"
   ]
  },
  {
   "cell_type": "code",
   "execution_count": 36,
   "id": "7cd23180",
   "metadata": {},
   "outputs": [
    {
     "data": {
      "text/plain": [
       "Año                 37\n",
       "Trimestre           37\n",
       "Banda ancha fija    37\n",
       "Dial up             37\n",
       "Total               37\n",
       "Period              37\n",
       "dtype: int64"
      ]
     },
     "execution_count": 36,
     "metadata": {},
     "output_type": "execute_result"
    }
   ],
   "source": [
    "df.count()"
   ]
  },
  {
   "cell_type": "code",
   "execution_count": 37,
   "id": "2798163b",
   "metadata": {},
   "outputs": [
    {
     "data": {
      "text/plain": [
       "Año                   int64\n",
       "Trimestre             int64\n",
       "Banda ancha fija     object\n",
       "Dial up             float64\n",
       "Total                object\n",
       "Period               object\n",
       "dtype: object"
      ]
     },
     "execution_count": 37,
     "metadata": {},
     "output_type": "execute_result"
    }
   ],
   "source": [
    "df.dtypes"
   ]
  },
  {
   "cell_type": "code",
   "execution_count": 38,
   "id": "da626a38",
   "metadata": {},
   "outputs": [
    {
     "data": {
      "text/plain": [
       "Index(['Año', 'Trimestre', 'Banda ancha fija', 'Dial up', 'Total', 'Period'], dtype='object')"
      ]
     },
     "execution_count": 38,
     "metadata": {},
     "output_type": "execute_result"
    }
   ],
   "source": [
    "df.columns"
   ]
  },
  {
   "cell_type": "code",
   "execution_count": 39,
   "id": "17fbcda0",
   "metadata": {},
   "outputs": [],
   "source": [
    "#Veo incosistencia en los tipos de datos en lo cual paso a su verdadero tipo de datos \n",
    "df['Banda ancha fija'] = df['Banda ancha fija'].replace('\\.', '', regex=True).astype(float)\n",
    "df['Total'] = df['Total'].replace('\\.', '', regex=True).astype(float)\n"
   ]
  },
  {
   "cell_type": "code",
   "execution_count": 40,
   "id": "a0b687cb",
   "metadata": {},
   "outputs": [
    {
     "data": {
      "text/plain": [
       "Año                   int64\n",
       "Trimestre             int64\n",
       "Banda ancha fija    float64\n",
       "Dial up             float64\n",
       "Total               float64\n",
       "Period               object\n",
       "dtype: object"
      ]
     },
     "execution_count": 40,
     "metadata": {},
     "output_type": "execute_result"
    }
   ],
   "source": [
    "#Verifico si hubo cambios\n",
    "df.dtypes"
   ]
  },
  {
   "cell_type": "code",
   "execution_count": 41,
   "id": "d5dc34b7",
   "metadata": {},
   "outputs": [
    {
     "data": {
      "text/plain": [
       "False"
      ]
     },
     "execution_count": 41,
     "metadata": {},
     "output_type": "execute_result"
    }
   ],
   "source": [
    "#Verifico si hay datos duplicados en general en el marco de datos\n",
    "df.duplicated().any()"
   ]
  },
  {
   "cell_type": "markdown",
   "id": "c325fe8c",
   "metadata": {},
   "source": [
    "# Exploracion de datos (EDA)"
   ]
  },
  {
   "cell_type": "markdown",
   "id": "a85a2a33",
   "metadata": {},
   "source": [
    "¿Cómo ha evolucionado el número total de conexiones de banda ancha fija a lo largo de los años?"
   ]
  },
  {
   "cell_type": "code",
   "execution_count": 42,
   "id": "ed9dd0f0",
   "metadata": {},
   "outputs": [
    {
     "name": "stdout",
     "output_type": "stream",
     "text": [
      "La evolucion de los años total de numero de conexiones es\n",
      "\n",
      "Año\n",
      "2014    25908873.0\n",
      "2015    27337549.0\n",
      "2016    28373776.0\n",
      "2017    30217820.0\n",
      "2018    32865578.0\n",
      "2019    35490694.0\n",
      "2020    36731204.0\n",
      "2021    40042775.0\n",
      "2022    43831997.0\n",
      "2023    11229459.0\n",
      "Name: Banda ancha fija, dtype: float64\n"
     ]
    }
   ],
   "source": [
    "conexiones_por_anio = df.groupby('Año')['Banda ancha fija'].sum()\n",
    "\n",
    "print(\"La evolucion de los años total de numero de conexiones es\\n\")\n",
    "print(conexiones_por_anio)"
   ]
  },
  {
   "cell_type": "code",
   "execution_count": 43,
   "id": "a2e77618",
   "metadata": {},
   "outputs": [
    {
     "data": {
      "image/png": "[encoded data removed]",
      "text/plain": [
       "<Figure size 1000x600 with 1 Axes>"
      ]
     },
     "metadata": {},
     "output_type": "display_data"
    }
   ],
   "source": [
    "#Visualizacion en una tendencia \n",
    "import matplotlib.pyplot as plt\n",
    "# Creo el gráfico de línea\n",
    "plt.figure(figsize=(10, 6))\n",
    "plt.plot(conexiones_por_anio.index, conexiones_por_anio.values, marker='o', color='blue', linestyle='-')\n",
    "plt.title('Evolución del número total de conexiones de banda ancha fija')\n",
    "plt.xlabel('Año')\n",
    "plt.ylabel('Número total de conexiones de banda ancha fija')\n",
    "plt.grid(True)\n",
    "plt.xticks(conexiones_por_anio.index)  \n",
    "plt.show()"
   ]
  },
  {
   "cell_type": "markdown",
   "id": "f429bd5e",
   "metadata": {},
   "source": [
    "¿Hay alguna tendencia evidente en el número de conexiones de banda ancha fija a lo largo de los trimestres?"
   ]
  },
  {
   "cell_type": "code",
   "execution_count": 44,
   "id": "ab76b34f",
   "metadata": {},
   "outputs": [
    {
     "name": "stdout",
     "output_type": "stream",
     "text": [
      "Trimestre\n",
      "1    84131384.0\n",
      "2    74552296.0\n",
      "3    76299637.0\n",
      "4    77046408.0\n",
      "Name: Banda ancha fija, dtype: float64\n"
     ]
    }
   ],
   "source": [
    "conexiones_por_trimestre = df.groupby('Trimestre')['Banda ancha fija'].sum()\n",
    "print(conexiones_por_trimestre)"
   ]
  },
  {
   "cell_type": "code",
   "execution_count": 45,
   "id": "12eb9148",
   "metadata": {},
   "outputs": [
    {
     "data": {
      "image/png": "[encoded data removed]",
      "text/plain": [
       "<Figure size 1000x600 with 1 Axes>"
      ]
     },
     "metadata": {},
     "output_type": "display_data"
    }
   ],
   "source": [
    "# Creo el gráfico de barras para visualizar la tendencia\n",
    "plt.figure(figsize=(10, 6))\n",
    "conexiones_por_trimestre.plot(kind='bar', color='g')\n",
    "plt.title('Número total de conexiones de banda ancha fija por trimestre')\n",
    "plt.xlabel('Trimestre')\n",
    "plt.ylabel('Número total de conexiones de banda ancha fija')\n",
    "plt.xticks(rotation=1)\n",
    "plt.grid(axis='y')\n",
    "plt.show()"
   ]
  },
  {
   "cell_type": "markdown",
   "id": "a6b2fe30",
   "metadata": {},
   "source": [
    "¿Cuál fue el año con el mayor aumento en el número de conexiones de banda ancha fija?"
   ]
  },
  {
   "cell_type": "code",
   "execution_count": 46,
   "id": "b6635746",
   "metadata": {},
   "outputs": [
    {
     "name": "stdout",
     "output_type": "stream",
     "text": [
      "El año con el mayor aumento en el número de conexiones de banda ancha fija fue 2019 con un aumento de 359838.0 conexiones.\n"
     ]
    }
   ],
   "source": [
    "# Calcula la diferencia entre el número de conexiones de banda ancha fija de un año y el año anterior\n",
    "df['Diferencia'] = df['Banda ancha fija'].diff()\n",
    "\n",
    "# Encuentra el año con la mayor diferencia positiva\n",
    "año_max_aumento = df.loc[df['Diferencia'].idxmax(), 'Año']\n",
    "aumento_maximo = df['Diferencia'].max()\n",
    "\n",
    "print(f\"El año con el mayor aumento en el número de conexiones de banda ancha fija fue {año_max_aumento} con un aumento de {aumento_maximo} conexiones.\")\n"
   ]
  },
  {
   "cell_type": "markdown",
   "id": "a391fb39",
   "metadata": {},
   "source": [
    "¿Cómo se compara el número de conexiones de Dial up en los primeros trimestres del año con los últimos trimestres del mismo año?"
   ]
  },
  {
   "cell_type": "code",
   "execution_count": 47,
   "id": "e350ce24",
   "metadata": {},
   "outputs": [
    {
     "name": "stdout",
     "output_type": "stream",
     "text": [
      "      Dial up primer trimestre  Dial up último trimestre  Diferencia Dial up\n",
      "Año                                                                         \n",
      "2014                    36.290                    39.324               3.034\n",
      "2015                    38.018                    32.542              -5.476\n",
      "2016                    32.652                    28.545              -4.107\n",
      "2017                    28.540                    27.444              -1.096\n",
      "2018                    27.072                    21.814              -5.258\n",
      "2019                    21.812                    10.128             -11.684\n",
      "2020                     9.991                    10.016               0.025\n",
      "2021                    10.016                    12.861               2.845\n",
      "2022                    12.619                    12.446              -0.173\n",
      "2023                    12.436                       NaN                 NaN\n"
     ]
    }
   ],
   "source": [
    "# Convierto la columna 'Trimestre' a tipo numérico para facilitar la comparación\n",
    "df['Trimestre'] = pd.to_numeric(df['Trimestre'])\n",
    "\n",
    "# Filtra los primeros y últimos trimestres de cada año\n",
    "primer_trimestre = df[df['Trimestre'] == 1]\n",
    "ultimo_trimestre = df[df['Trimestre'] == 4]\n",
    "\n",
    "# Agrupa y suma el número de conexiones de Dial up para los primeros trimestres de cada año\n",
    "dial_up_primer_trimestre = primer_trimestre.groupby('Año')['Dial up'].sum()\n",
    "\n",
    "# Agrupa y suma el número de conexiones de Dial up para los últimos trimestres de cada año\n",
    "dial_up_ultimo_trimestre = ultimo_trimestre.groupby('Año')['Dial up'].sum()\n",
    "\n",
    "# Compara el número de conexiones de Dial up entre los primeros y últimos trimestres de cada año\n",
    "comparacion_dial_up = pd.concat([dial_up_primer_trimestre, dial_up_ultimo_trimestre], axis=1)\n",
    "comparacion_dial_up.columns = ['Dial up primer trimestre', 'Dial up último trimestre']\n",
    "\n",
    "# Calcula la diferencia entre el número de conexiones de Dial up en los primeros y últimos trimestres\n",
    "comparacion_dial_up['Diferencia Dial up'] = comparacion_dial_up['Dial up último trimestre'] - comparacion_dial_up['Dial up primer trimestre']\n",
    "\n",
    "# Muestra la comparación\n",
    "print(comparacion_dial_up)\n"
   ]
  },
  {
   "cell_type": "markdown",
   "id": "6c3470ca",
   "metadata": {},
   "source": [
    "¿Cuál fue el trimestre con el menor número total de conexiones en 2016?"
   ]
  },
  {
   "cell_type": "code",
   "execution_count": 48,
   "id": "bfe3603f",
   "metadata": {},
   "outputs": [
    {
     "name": "stdout",
     "output_type": "stream",
     "text": [
      "El trimestre con el menor número total de conexiones en 2016 fue el trimestre 1 con un total de 6907356.0 conexiones.\n"
     ]
    }
   ],
   "source": [
    "# Filtra los datos para el año 2016\n",
    "df_2016 = df[df['Año'] == 2016]\n",
    "\n",
    "# Agrupa los datos por trimestre y calcula la suma del número total de conexiones para cada trimestre\n",
    "conexiones_por_trimestre_2016 = df_2016.groupby('Trimestre')['Total'].sum()\n",
    "\n",
    "# Encuentra el trimestre con la suma mínima de conexiones\n",
    "trimestre_menor_conexiones = conexiones_por_trimestre_2016.idxmin()\n",
    "total_conexiones_menor_trimestre = conexiones_por_trimestre_2016.min()\n",
    "\n",
    "print(f\"El trimestre con el menor número total de conexiones en 2016 fue el trimestre {trimestre_menor_conexiones} con un total de {total_conexiones_menor_trimestre} conexiones.\")\n"
   ]
  },
  {
   "cell_type": "markdown",
   "id": "e902c131",
   "metadata": {},
   "source": [
    "¿Cuál fue el porcentaje de cambio en el número total de conexiones de banda ancha fija de 2018 a 2019?"
   ]
  },
  {
   "cell_type": "code",
   "execution_count": 50,
   "id": "e666b019",
   "metadata": {},
   "outputs": [
    {
     "name": "stdout",
     "output_type": "stream",
     "text": [
      "El porcentaje de cambio en el número total de conexiones de banda ancha fija de 2018 a 2019 fue de: 7.99%\n"
     ]
    }
   ],
   "source": [
    "# Filtra los datos para los años 2018 y 2019\n",
    "df_2018 = df[df['Año'] == 2018]\n",
    "df_2019 = df[df['Año'] == 2019]\n",
    "\n",
    "# Calcula la suma total de conexiones de banda ancha fija para 2018 y 2019\n",
    "suma_2018 = df_2018['Banda ancha fija'].sum()\n",
    "suma_2019 = df_2019['Banda ancha fija'].sum()\n",
    "\n",
    "# Calcula el porcentaje de cambio\n",
    "porcentaje_cambio = ((suma_2019 - suma_2018) / suma_2018) * 100\n",
    "\n",
    "print(f\"El porcentaje de cambio en el número total de conexiones de banda ancha fija de 2018 a 2019 fue de: {porcentaje_cambio:.2f}%\")\n"
   ]
  },
  {
   "cell_type": "code",
   "execution_count": 52,
   "id": "689c7288",
   "metadata": {},
   "outputs": [
    {
     "data": {
      "image/png": "[encoded data removed]",
      "text/plain": [
       "<Figure size 1200x800 with 1 Axes>"
      ]
     },
     "metadata": {},
     "output_type": "display_data"
    }
   ],
   "source": [
    "# Datos para el gráfico circular\n",
    "nombres = ['2018', '2019']\n",
    "valores = [suma_2018, suma_2019]\n",
    "\n",
    "# Crea el gráfico circular\n",
    "plt.figure(figsize=(12, 8))\n",
    "plt.pie(valores, labels=nombres, autopct='%1.1f%%', startangle=140)\n",
    "plt.title('Distribución del número total de conexiones de banda ancha fija (2018 vs. 2019)')\n",
    "plt.axis('equal')  \n",
    "\n",
    "# Muestra el gráfico\n",
    "plt.show()\n"
   ]
  },
  {
   "cell_type": "markdown",
   "id": "6e481fe4",
   "metadata": {},
   "source": [
    "¿Cómo se distribuyen las conexiones de Dial up en comparación con las conexiones de banda ancha fija en el último trimestre registrado?"
   ]
  },
  {
   "cell_type": "code",
   "execution_count": 67,
   "id": "15622b3b",
   "metadata": {},
   "outputs": [
    {
     "data": {
      "image/png": "[encoded data removed]",
      "text/plain": [
       "<Figure size 1200x600 with 1 Axes>"
      ]
     },
     "metadata": {},
     "output_type": "display_data"
    }
   ],
   "source": [
    "# Filtra los datos para el último trimestre registrado\n",
    "ultimo_trimestre = df[df['Period'] == df['Period'].max()]\n",
    "\n",
    "# Obtiene el total de conexiones de Dial up y banda ancha fija en el último trimestre\n",
    "total_dial_up = ultimo_trimestre['Dial up'].sum()\n",
    "total_banda_ancha = ultimo_trimestre['Banda ancha fija'].sum()\n",
    "\n",
    "# Crea un gráfico de barras para comparar las distribuciones\n",
    "categorias = ['Dial up', 'Banda ancha fija']\n",
    "valores = [total_dial_up, total_banda_ancha]\n",
    "\n",
    "plt.figure(figsize=(12, 6))\n",
    "plt.bar(categorias, valores, color=['blue', 'green'])\n",
    "plt.xlabel('Categorías')\n",
    "plt.ylabel('Total de conexiones')\n",
    "plt.title('Distribución de conexiones de Dial up vs. Banda ancha fija en el último trimestre')\n",
    "plt.show()\n"
   ]
  },
  {
   "cell_type": "code",
   "execution_count": 72,
   "id": "fdbee1c0",
   "metadata": {},
   "outputs": [
    {
     "name": "stdout",
     "output_type": "stream",
     "text": [
      "Distribución de conexiones de Dial up vs. Banda ancha fija en el último trimestre es:  [12.446, 11195668.0]\n"
     ]
    }
   ],
   "source": [
    "print(\"Distribución de conexiones de Dial up vs. Banda ancha fija en el último trimestre es: \",valores)"
   ]
  },
  {
   "cell_type": "code",
   "execution_count": null,
   "id": "7b2d62ad",
   "metadata": {},
   "outputs": [],
   "source": []
  },
  {
   "cell_type": "code",
   "execution_count": null,
   "id": "e95ae58c",
   "metadata": {},
   "outputs": [],
   "source": []
  }
 ],
 "metadata": {
  "kernelspec": {
   "display_name": "Python 3 (ipykernel)",
   "language": "python",
   "name": "python3"
  },
  "language_info": {
   "codemirror_mode": {
    "name": "ipython",
    "version": 3
   },
   "file_extension": ".py",
   "mimetype": "text/x-python",
   "name": "python",
   "nbconvert_exporter": "python",
   "pygments_lexer": "ipython3",
   "version": "3.7.16"
  }
 },
 "nbformat": 4,
 "nbformat_minor": 5
}

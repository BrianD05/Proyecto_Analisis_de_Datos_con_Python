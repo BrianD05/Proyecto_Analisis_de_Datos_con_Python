{
 "cells": [
  {
   "cell_type": "markdown",
   "id": "a677fcac",
   "metadata": {},
   "source": [
    "# Análisis de Gastos Financieros Personales"
   ]
  },
  {
   "cell_type": "markdown",
   "id": "2c9ead53",
   "metadata": {},
   "source": [
    "Objetivo del Proyecto:\n",
    "El objetivo de este proyecto es analizar detalladamente los gastos financieros personales a partir de datos transaccionales. Se abordarán las siguientes siete preguntas clave para comprender mejor los hábitos financieros y tomar decisiones informadas sobre la gestión del presupuesto y la planificación financiera"
   ]
  },
  {
   "cell_type": "markdown",
   "id": "771778b2",
   "metadata": {},
   "source": [
    "# Importación"
   ]
  },
  {
   "cell_type": "code",
   "execution_count": 2,
   "id": "60ecbc9e",
   "metadata": {},
   "outputs": [],
   "source": [
    "import os\n",
    "import pandas as pd\n",
    "import matplotlib.pyplot as plt\n",
    "import seaborn as sns\n",
    "import numpy as np\n",
    "# Obtiene el directorio actual\n",
    "directorio_actual = os.getcwd()\n",
    "\n",
    "# Nombre del archivo CSV que se desea abrir\n",
    "nombre_archivo = \"personal_transactions_finance.csv\"\n",
    "\n",
    "# Se Construye la ruta completa del archivo utilizando os.path.join\n",
    "ruta_completa = os.path.join(directorio_actual, nombre_archivo)\n",
    "\n",
    "# Verifico si el archivo existe antes de intentar abrirlo\n",
    "if os.path.exists(ruta_completa):\n",
    "    # Abre el archivo CSV utilizando pandas\n",
    "    df = pd.read_csv(ruta_completa)\n",
    "\n",
    "else:\n",
    "    print(f\"El archivo {nombre_archivo} no existe en el directorio actual.\")\n"
   ]
  },
  {
   "cell_type": "code",
   "execution_count": 10,
   "id": "07ce940c",
   "metadata": {},
   "outputs": [
    {
     "data": {
      "text/plain": [
       "pandas.core.frame.DataFrame"
      ]
     },
     "execution_count": 10,
     "metadata": {},
     "output_type": "execute_result"
    }
   ],
   "source": [
    "type(df)"
   ]
  },
  {
   "cell_type": "markdown",
   "id": "fc4d37a1",
   "metadata": {},
   "source": [
    "# Limpieza de datos"
   ]
  },
  {
   "cell_type": "code",
   "execution_count": 3,
   "id": "e4a85d8c",
   "metadata": {},
   "outputs": [
    {
     "data": {
      "text/html": [
       "<div>\n",
       "<style scoped>\n",
       "    .dataframe tbody tr th:only-of-type {\n",
       "        vertical-align: middle;\n",
       "    }\n",
       "\n",
       "    .dataframe tbody tr th {\n",
       "        vertical-align: top;\n",
       "    }\n",
       "\n",
       "    .dataframe thead th {\n",
       "        text-align: right;\n",
       "    }\n",
       "</style>\n",
       "<table border=\"1\" class=\"dataframe\">\n",
       "  <thead>\n",
       "    <tr style=\"text-align: right;\">\n",
       "      <th></th>\n",
       "      <th>Date</th>\n",
       "      <th>Description</th>\n",
       "      <th>Amount</th>\n",
       "      <th>Transaction Type</th>\n",
       "      <th>Category</th>\n",
       "      <th>Account Name</th>\n",
       "    </tr>\n",
       "  </thead>\n",
       "  <tbody>\n",
       "    <tr>\n",
       "      <th>0</th>\n",
       "      <td>01/01/2018</td>\n",
       "      <td>Amazon</td>\n",
       "      <td>11.11</td>\n",
       "      <td>debit</td>\n",
       "      <td>Shopping</td>\n",
       "      <td>Platinum Card</td>\n",
       "    </tr>\n",
       "    <tr>\n",
       "      <th>1</th>\n",
       "      <td>01/02/2018</td>\n",
       "      <td>Mortgage Payment</td>\n",
       "      <td>1247.44</td>\n",
       "      <td>debit</td>\n",
       "      <td>Mortgage &amp; Rent</td>\n",
       "      <td>Checking</td>\n",
       "    </tr>\n",
       "    <tr>\n",
       "      <th>2</th>\n",
       "      <td>01/02/2018</td>\n",
       "      <td>Thai Restaurant</td>\n",
       "      <td>24.22</td>\n",
       "      <td>debit</td>\n",
       "      <td>Restaurants</td>\n",
       "      <td>Silver Card</td>\n",
       "    </tr>\n",
       "    <tr>\n",
       "      <th>3</th>\n",
       "      <td>01/03/2018</td>\n",
       "      <td>Credit Card Payment</td>\n",
       "      <td>2298.09</td>\n",
       "      <td>credit</td>\n",
       "      <td>Credit Card Payment</td>\n",
       "      <td>Platinum Card</td>\n",
       "    </tr>\n",
       "    <tr>\n",
       "      <th>4</th>\n",
       "      <td>01/04/2018</td>\n",
       "      <td>Netflix</td>\n",
       "      <td>11.76</td>\n",
       "      <td>debit</td>\n",
       "      <td>Movies &amp; DVDs</td>\n",
       "      <td>Platinum Card</td>\n",
       "    </tr>\n",
       "    <tr>\n",
       "      <th>...</th>\n",
       "      <td>...</td>\n",
       "      <td>...</td>\n",
       "      <td>...</td>\n",
       "      <td>...</td>\n",
       "      <td>...</td>\n",
       "      <td>...</td>\n",
       "    </tr>\n",
       "    <tr>\n",
       "      <th>801</th>\n",
       "      <td>09/27/2019</td>\n",
       "      <td>Biweekly Paycheck</td>\n",
       "      <td>2250.00</td>\n",
       "      <td>credit</td>\n",
       "      <td>Paycheck</td>\n",
       "      <td>Checking</td>\n",
       "    </tr>\n",
       "    <tr>\n",
       "      <th>802</th>\n",
       "      <td>09/28/2019</td>\n",
       "      <td>BP</td>\n",
       "      <td>33.46</td>\n",
       "      <td>debit</td>\n",
       "      <td>Gas &amp; Fuel</td>\n",
       "      <td>Platinum Card</td>\n",
       "    </tr>\n",
       "    <tr>\n",
       "      <th>803</th>\n",
       "      <td>09/28/2019</td>\n",
       "      <td>Sheetz</td>\n",
       "      <td>4.27</td>\n",
       "      <td>debit</td>\n",
       "      <td>Gas &amp; Fuel</td>\n",
       "      <td>Platinum Card</td>\n",
       "    </tr>\n",
       "    <tr>\n",
       "      <th>804</th>\n",
       "      <td>09/30/2019</td>\n",
       "      <td>Starbucks</td>\n",
       "      <td>1.75</td>\n",
       "      <td>debit</td>\n",
       "      <td>Coffee Shops</td>\n",
       "      <td>Platinum Card</td>\n",
       "    </tr>\n",
       "    <tr>\n",
       "      <th>805</th>\n",
       "      <td>09/30/2019</td>\n",
       "      <td>Internet Service Provider</td>\n",
       "      <td>75.00</td>\n",
       "      <td>debit</td>\n",
       "      <td>Internet</td>\n",
       "      <td>Checking</td>\n",
       "    </tr>\n",
       "  </tbody>\n",
       "</table>\n",
       "<p>806 rows × 6 columns</p>\n",
       "</div>"
      ],
      "text/plain": [
       "           Date                Description   Amount Transaction Type  \\\n",
       "0    01/01/2018                     Amazon    11.11            debit   \n",
       "1    01/02/2018           Mortgage Payment  1247.44            debit   \n",
       "2    01/02/2018            Thai Restaurant    24.22            debit   \n",
       "3    01/03/2018        Credit Card Payment  2298.09           credit   \n",
       "4    01/04/2018                    Netflix    11.76            debit   \n",
       "..          ...                        ...      ...              ...   \n",
       "801  09/27/2019          Biweekly Paycheck  2250.00           credit   \n",
       "802  09/28/2019                         BP    33.46            debit   \n",
       "803  09/28/2019                     Sheetz     4.27            debit   \n",
       "804  09/30/2019                  Starbucks     1.75            debit   \n",
       "805  09/30/2019  Internet Service Provider    75.00            debit   \n",
       "\n",
       "                Category   Account Name  \n",
       "0               Shopping  Platinum Card  \n",
       "1        Mortgage & Rent       Checking  \n",
       "2            Restaurants    Silver Card  \n",
       "3    Credit Card Payment  Platinum Card  \n",
       "4          Movies & DVDs  Platinum Card  \n",
       "..                   ...            ...  \n",
       "801             Paycheck       Checking  \n",
       "802           Gas & Fuel  Platinum Card  \n",
       "803           Gas & Fuel  Platinum Card  \n",
       "804         Coffee Shops  Platinum Card  \n",
       "805             Internet       Checking  \n",
       "\n",
       "[806 rows x 6 columns]"
      ]
     },
     "execution_count": 3,
     "metadata": {},
     "output_type": "execute_result"
    }
   ],
   "source": [
    "df"
   ]
  },
  {
   "cell_type": "code",
   "execution_count": 4,
   "id": "e73219f4",
   "metadata": {},
   "outputs": [
    {
     "data": {
      "text/html": [
       "<div>\n",
       "<style scoped>\n",
       "    .dataframe tbody tr th:only-of-type {\n",
       "        vertical-align: middle;\n",
       "    }\n",
       "\n",
       "    .dataframe tbody tr th {\n",
       "        vertical-align: top;\n",
       "    }\n",
       "\n",
       "    .dataframe thead th {\n",
       "        text-align: right;\n",
       "    }\n",
       "</style>\n",
       "<table border=\"1\" class=\"dataframe\">\n",
       "  <thead>\n",
       "    <tr style=\"text-align: right;\">\n",
       "      <th></th>\n",
       "      <th>Date</th>\n",
       "      <th>Description</th>\n",
       "      <th>Amount</th>\n",
       "      <th>Transaction Type</th>\n",
       "      <th>Category</th>\n",
       "      <th>Account Name</th>\n",
       "    </tr>\n",
       "  </thead>\n",
       "  <tbody>\n",
       "    <tr>\n",
       "      <th>0</th>\n",
       "      <td>01/01/2018</td>\n",
       "      <td>Amazon</td>\n",
       "      <td>11.11</td>\n",
       "      <td>debit</td>\n",
       "      <td>Shopping</td>\n",
       "      <td>Platinum Card</td>\n",
       "    </tr>\n",
       "    <tr>\n",
       "      <th>1</th>\n",
       "      <td>01/02/2018</td>\n",
       "      <td>Mortgage Payment</td>\n",
       "      <td>1247.44</td>\n",
       "      <td>debit</td>\n",
       "      <td>Mortgage &amp; Rent</td>\n",
       "      <td>Checking</td>\n",
       "    </tr>\n",
       "    <tr>\n",
       "      <th>2</th>\n",
       "      <td>01/02/2018</td>\n",
       "      <td>Thai Restaurant</td>\n",
       "      <td>24.22</td>\n",
       "      <td>debit</td>\n",
       "      <td>Restaurants</td>\n",
       "      <td>Silver Card</td>\n",
       "    </tr>\n",
       "    <tr>\n",
       "      <th>3</th>\n",
       "      <td>01/03/2018</td>\n",
       "      <td>Credit Card Payment</td>\n",
       "      <td>2298.09</td>\n",
       "      <td>credit</td>\n",
       "      <td>Credit Card Payment</td>\n",
       "      <td>Platinum Card</td>\n",
       "    </tr>\n",
       "    <tr>\n",
       "      <th>4</th>\n",
       "      <td>01/04/2018</td>\n",
       "      <td>Netflix</td>\n",
       "      <td>11.76</td>\n",
       "      <td>debit</td>\n",
       "      <td>Movies &amp; DVDs</td>\n",
       "      <td>Platinum Card</td>\n",
       "    </tr>\n",
       "  </tbody>\n",
       "</table>\n",
       "</div>"
      ],
      "text/plain": [
       "         Date          Description   Amount Transaction Type  \\\n",
       "0  01/01/2018               Amazon    11.11            debit   \n",
       "1  01/02/2018     Mortgage Payment  1247.44            debit   \n",
       "2  01/02/2018      Thai Restaurant    24.22            debit   \n",
       "3  01/03/2018  Credit Card Payment  2298.09           credit   \n",
       "4  01/04/2018              Netflix    11.76            debit   \n",
       "\n",
       "              Category   Account Name  \n",
       "0             Shopping  Platinum Card  \n",
       "1      Mortgage & Rent       Checking  \n",
       "2          Restaurants    Silver Card  \n",
       "3  Credit Card Payment  Platinum Card  \n",
       "4        Movies & DVDs  Platinum Card  "
      ]
     },
     "execution_count": 4,
     "metadata": {},
     "output_type": "execute_result"
    }
   ],
   "source": [
    "df.head()"
   ]
  },
  {
   "cell_type": "code",
   "execution_count": 5,
   "id": "702a677b",
   "metadata": {},
   "outputs": [
    {
     "data": {
      "text/html": [
       "<div>\n",
       "<style scoped>\n",
       "    .dataframe tbody tr th:only-of-type {\n",
       "        vertical-align: middle;\n",
       "    }\n",
       "\n",
       "    .dataframe tbody tr th {\n",
       "        vertical-align: top;\n",
       "    }\n",
       "\n",
       "    .dataframe thead th {\n",
       "        text-align: right;\n",
       "    }\n",
       "</style>\n",
       "<table border=\"1\" class=\"dataframe\">\n",
       "  <thead>\n",
       "    <tr style=\"text-align: right;\">\n",
       "      <th></th>\n",
       "      <th>Date</th>\n",
       "      <th>Description</th>\n",
       "      <th>Amount</th>\n",
       "      <th>Transaction Type</th>\n",
       "      <th>Category</th>\n",
       "      <th>Account Name</th>\n",
       "    </tr>\n",
       "  </thead>\n",
       "  <tbody>\n",
       "    <tr>\n",
       "      <th>801</th>\n",
       "      <td>09/27/2019</td>\n",
       "      <td>Biweekly Paycheck</td>\n",
       "      <td>2250.00</td>\n",
       "      <td>credit</td>\n",
       "      <td>Paycheck</td>\n",
       "      <td>Checking</td>\n",
       "    </tr>\n",
       "    <tr>\n",
       "      <th>802</th>\n",
       "      <td>09/28/2019</td>\n",
       "      <td>BP</td>\n",
       "      <td>33.46</td>\n",
       "      <td>debit</td>\n",
       "      <td>Gas &amp; Fuel</td>\n",
       "      <td>Platinum Card</td>\n",
       "    </tr>\n",
       "    <tr>\n",
       "      <th>803</th>\n",
       "      <td>09/28/2019</td>\n",
       "      <td>Sheetz</td>\n",
       "      <td>4.27</td>\n",
       "      <td>debit</td>\n",
       "      <td>Gas &amp; Fuel</td>\n",
       "      <td>Platinum Card</td>\n",
       "    </tr>\n",
       "    <tr>\n",
       "      <th>804</th>\n",
       "      <td>09/30/2019</td>\n",
       "      <td>Starbucks</td>\n",
       "      <td>1.75</td>\n",
       "      <td>debit</td>\n",
       "      <td>Coffee Shops</td>\n",
       "      <td>Platinum Card</td>\n",
       "    </tr>\n",
       "    <tr>\n",
       "      <th>805</th>\n",
       "      <td>09/30/2019</td>\n",
       "      <td>Internet Service Provider</td>\n",
       "      <td>75.00</td>\n",
       "      <td>debit</td>\n",
       "      <td>Internet</td>\n",
       "      <td>Checking</td>\n",
       "    </tr>\n",
       "  </tbody>\n",
       "</table>\n",
       "</div>"
      ],
      "text/plain": [
       "           Date                Description   Amount Transaction Type  \\\n",
       "801  09/27/2019          Biweekly Paycheck  2250.00           credit   \n",
       "802  09/28/2019                         BP    33.46            debit   \n",
       "803  09/28/2019                     Sheetz     4.27            debit   \n",
       "804  09/30/2019                  Starbucks     1.75            debit   \n",
       "805  09/30/2019  Internet Service Provider    75.00            debit   \n",
       "\n",
       "         Category   Account Name  \n",
       "801      Paycheck       Checking  \n",
       "802    Gas & Fuel  Platinum Card  \n",
       "803    Gas & Fuel  Platinum Card  \n",
       "804  Coffee Shops  Platinum Card  \n",
       "805      Internet       Checking  "
      ]
     },
     "execution_count": 5,
     "metadata": {},
     "output_type": "execute_result"
    }
   ],
   "source": [
    "df.tail()"
   ]
  },
  {
   "cell_type": "code",
   "execution_count": 6,
   "id": "253b744c",
   "metadata": {},
   "outputs": [
    {
     "data": {
      "text/plain": [
       "(806, 6)"
      ]
     },
     "execution_count": 6,
     "metadata": {},
     "output_type": "execute_result"
    }
   ],
   "source": [
    "df.shape"
   ]
  },
  {
   "cell_type": "code",
   "execution_count": 7,
   "id": "d0bf0d39",
   "metadata": {},
   "outputs": [
    {
     "name": "stdout",
     "output_type": "stream",
     "text": [
      "<class 'pandas.core.frame.DataFrame'>\n",
      "RangeIndex: 806 entries, 0 to 805\n",
      "Data columns (total 6 columns):\n",
      " #   Column            Non-Null Count  Dtype  \n",
      "---  ------            --------------  -----  \n",
      " 0   Date              806 non-null    object \n",
      " 1   Description       806 non-null    object \n",
      " 2   Amount            806 non-null    float64\n",
      " 3   Transaction Type  806 non-null    object \n",
      " 4   Category          806 non-null    object \n",
      " 5   Account Name      806 non-null    object \n",
      "dtypes: float64(1), object(5)\n",
      "memory usage: 37.9+ KB\n"
     ]
    }
   ],
   "source": [
    "df.info()"
   ]
  },
  {
   "cell_type": "code",
   "execution_count": 8,
   "id": "7bffa622",
   "metadata": {},
   "outputs": [
    {
     "data": {
      "text/plain": [
       "Date                806\n",
       "Description         806\n",
       "Amount              806\n",
       "Transaction Type    806\n",
       "Category            806\n",
       "Account Name        806\n",
       "dtype: int64"
      ]
     },
     "execution_count": 8,
     "metadata": {},
     "output_type": "execute_result"
    }
   ],
   "source": [
    "df.count()"
   ]
  },
  {
   "cell_type": "code",
   "execution_count": 9,
   "id": "ea5275b2",
   "metadata": {},
   "outputs": [
    {
     "data": {
      "text/plain": [
       "Date                 object\n",
       "Description          object\n",
       "Amount              float64\n",
       "Transaction Type     object\n",
       "Category             object\n",
       "Account Name         object\n",
       "dtype: object"
      ]
     },
     "execution_count": 9,
     "metadata": {},
     "output_type": "execute_result"
    }
   ],
   "source": [
    "df.dtypes"
   ]
  },
  {
   "cell_type": "code",
   "execution_count": 11,
   "id": "d33a16c6",
   "metadata": {},
   "outputs": [
    {
     "data": {
      "text/plain": [
       "Index(['Date', 'Description', 'Amount', 'Transaction Type', 'Category',\n",
       "       'Account Name'],\n",
       "      dtype='object')"
      ]
     },
     "execution_count": 11,
     "metadata": {},
     "output_type": "execute_result"
    }
   ],
   "source": [
    "df.columns"
   ]
  },
  {
   "cell_type": "code",
   "execution_count": 15,
   "id": "0e693e76",
   "metadata": {},
   "outputs": [
    {
     "data": {
      "text/plain": [
       "False"
      ]
     },
     "execution_count": 15,
     "metadata": {},
     "output_type": "execute_result"
    }
   ],
   "source": [
    "df.duplicated().any()"
   ]
  },
  {
   "cell_type": "markdown",
   "id": "27b1c903",
   "metadata": {},
   "source": [
    "# Analizando los Gastos Financieros"
   ]
  },
  {
   "cell_type": "markdown",
   "id": "428c4c1c",
   "metadata": {},
   "source": [
    "¿Cuál es el gasto total en cada categoría?"
   ]
  },
  {
   "cell_type": "code",
   "execution_count": 18,
   "id": "ed4b6ebe",
   "metadata": {},
   "outputs": [
    {
     "data": {
      "text/plain": [
       "Category\n",
       "Paycheck                  93750.00\n",
       "Credit Card Payment       63561.12\n",
       "Mortgage & Rent           24754.50\n",
       "Home Improvement          19092.87\n",
       "Groceries                  2795.21\n",
       "Utilities                  2776.00\n",
       "Restaurants                2613.02\n",
       "Shopping                   1973.24\n",
       "Gas & Fuel                 1715.17\n",
       "Mobile Phone               1680.40\n",
       "Internet                   1570.88\n",
       "Auto Insurance             1350.00\n",
       "Electronics & Software      719.00\n",
       "Alcohol & Bars              539.13\n",
       "Haircut                     378.00\n",
       "Fast Food                   330.63\n",
       "Music                       224.49\n",
       "Movies & DVDs               222.19\n",
       "Coffee Shops                115.54\n",
       "Television                  104.78\n",
       "Food & Dining                77.75\n",
       "Entertainment                 9.62\n",
       "Name: Amount, dtype: float64"
      ]
     },
     "execution_count": 18,
     "metadata": {},
     "output_type": "execute_result"
    }
   ],
   "source": [
    "#Calcular el Gasto total en cada categoria\n",
    "\n",
    "gasto_por_categoria = df.groupby('Category')['Amount'].sum().sort_values(ascending = False)\n",
    "\n",
    "gasto_por_categoria"
   ]
  },
  {
   "cell_type": "code",
   "execution_count": 19,
   "id": "3eb00204",
   "metadata": {},
   "outputs": [
    {
     "data": {
      "image/png": "[encoded data removed]",
      "text/plain": [
       "<Figure size 1000x600 with 1 Axes>"
      ]
     },
     "metadata": {},
     "output_type": "display_data"
    }
   ],
   "source": [
    "plt.figure(figsize = (10,6))\n",
    "gasto_por_categoria.plot(kind = 'bar',color = 'skyblue')\n",
    "plt.title('Gasto Total por Categoria')\n",
    "plt.xlabel('Categorias')\n",
    "plt.ylabel('Gasto Total ($)')\n",
    "plt.xticks(rotation=45,ha='right')\n",
    "plt.tight_layout()\n",
    "plt.show()"
   ]
  },
  {
   "cell_type": "markdown",
   "id": "3934b46e",
   "metadata": {},
   "source": [
    "¿Cuál es el patrón de gastos mensuales a lo largo del año?"
   ]
  },
  {
   "cell_type": "code",
   "execution_count": 22,
   "id": "bff56bf4",
   "metadata": {},
   "outputs": [],
   "source": [
    "# Convertir la columna de fechas a formato datetime\n",
    "df['Date'] = pd.to_datetime(df['Date'])"
   ]
  },
  {
   "cell_type": "code",
   "execution_count": 24,
   "id": "ee8e1d4d",
   "metadata": {},
   "outputs": [],
   "source": [
    "#Extraer el mes y el año de la fecha\n",
    "df['Month'] = df['Date'].dt.month\n",
    "df['Year'] = df['Date'].dt.year"
   ]
  },
  {
   "cell_type": "code",
   "execution_count": 25,
   "id": "c57ef4d4",
   "metadata": {},
   "outputs": [
    {
     "data": {
      "text/html": [
       "<div>\n",
       "<style scoped>\n",
       "    .dataframe tbody tr th:only-of-type {\n",
       "        vertical-align: middle;\n",
       "    }\n",
       "\n",
       "    .dataframe tbody tr th {\n",
       "        vertical-align: top;\n",
       "    }\n",
       "\n",
       "    .dataframe thead th {\n",
       "        text-align: right;\n",
       "    }\n",
       "</style>\n",
       "<table border=\"1\" class=\"dataframe\">\n",
       "  <thead>\n",
       "    <tr style=\"text-align: right;\">\n",
       "      <th></th>\n",
       "      <th>Date</th>\n",
       "      <th>Description</th>\n",
       "      <th>Amount</th>\n",
       "      <th>Transaction Type</th>\n",
       "      <th>Category</th>\n",
       "      <th>Account Name</th>\n",
       "      <th>Month</th>\n",
       "      <th>Year</th>\n",
       "    </tr>\n",
       "  </thead>\n",
       "  <tbody>\n",
       "    <tr>\n",
       "      <th>0</th>\n",
       "      <td>2018-01-01</td>\n",
       "      <td>Amazon</td>\n",
       "      <td>11.11</td>\n",
       "      <td>debit</td>\n",
       "      <td>Shopping</td>\n",
       "      <td>Platinum Card</td>\n",
       "      <td>1</td>\n",
       "      <td>2018</td>\n",
       "    </tr>\n",
       "    <tr>\n",
       "      <th>1</th>\n",
       "      <td>2018-01-02</td>\n",
       "      <td>Mortgage Payment</td>\n",
       "      <td>1247.44</td>\n",
       "      <td>debit</td>\n",
       "      <td>Mortgage &amp; Rent</td>\n",
       "      <td>Checking</td>\n",
       "      <td>1</td>\n",
       "      <td>2018</td>\n",
       "    </tr>\n",
       "    <tr>\n",
       "      <th>2</th>\n",
       "      <td>2018-01-02</td>\n",
       "      <td>Thai Restaurant</td>\n",
       "      <td>24.22</td>\n",
       "      <td>debit</td>\n",
       "      <td>Restaurants</td>\n",
       "      <td>Silver Card</td>\n",
       "      <td>1</td>\n",
       "      <td>2018</td>\n",
       "    </tr>\n",
       "    <tr>\n",
       "      <th>3</th>\n",
       "      <td>2018-01-03</td>\n",
       "      <td>Credit Card Payment</td>\n",
       "      <td>2298.09</td>\n",
       "      <td>credit</td>\n",
       "      <td>Credit Card Payment</td>\n",
       "      <td>Platinum Card</td>\n",
       "      <td>1</td>\n",
       "      <td>2018</td>\n",
       "    </tr>\n",
       "    <tr>\n",
       "      <th>4</th>\n",
       "      <td>2018-01-04</td>\n",
       "      <td>Netflix</td>\n",
       "      <td>11.76</td>\n",
       "      <td>debit</td>\n",
       "      <td>Movies &amp; DVDs</td>\n",
       "      <td>Platinum Card</td>\n",
       "      <td>1</td>\n",
       "      <td>2018</td>\n",
       "    </tr>\n",
       "    <tr>\n",
       "      <th>...</th>\n",
       "      <td>...</td>\n",
       "      <td>...</td>\n",
       "      <td>...</td>\n",
       "      <td>...</td>\n",
       "      <td>...</td>\n",
       "      <td>...</td>\n",
       "      <td>...</td>\n",
       "      <td>...</td>\n",
       "    </tr>\n",
       "    <tr>\n",
       "      <th>801</th>\n",
       "      <td>2019-09-27</td>\n",
       "      <td>Biweekly Paycheck</td>\n",
       "      <td>2250.00</td>\n",
       "      <td>credit</td>\n",
       "      <td>Paycheck</td>\n",
       "      <td>Checking</td>\n",
       "      <td>9</td>\n",
       "      <td>2019</td>\n",
       "    </tr>\n",
       "    <tr>\n",
       "      <th>802</th>\n",
       "      <td>2019-09-28</td>\n",
       "      <td>BP</td>\n",
       "      <td>33.46</td>\n",
       "      <td>debit</td>\n",
       "      <td>Gas &amp; Fuel</td>\n",
       "      <td>Platinum Card</td>\n",
       "      <td>9</td>\n",
       "      <td>2019</td>\n",
       "    </tr>\n",
       "    <tr>\n",
       "      <th>803</th>\n",
       "      <td>2019-09-28</td>\n",
       "      <td>Sheetz</td>\n",
       "      <td>4.27</td>\n",
       "      <td>debit</td>\n",
       "      <td>Gas &amp; Fuel</td>\n",
       "      <td>Platinum Card</td>\n",
       "      <td>9</td>\n",
       "      <td>2019</td>\n",
       "    </tr>\n",
       "    <tr>\n",
       "      <th>804</th>\n",
       "      <td>2019-09-30</td>\n",
       "      <td>Starbucks</td>\n",
       "      <td>1.75</td>\n",
       "      <td>debit</td>\n",
       "      <td>Coffee Shops</td>\n",
       "      <td>Platinum Card</td>\n",
       "      <td>9</td>\n",
       "      <td>2019</td>\n",
       "    </tr>\n",
       "    <tr>\n",
       "      <th>805</th>\n",
       "      <td>2019-09-30</td>\n",
       "      <td>Internet Service Provider</td>\n",
       "      <td>75.00</td>\n",
       "      <td>debit</td>\n",
       "      <td>Internet</td>\n",
       "      <td>Checking</td>\n",
       "      <td>9</td>\n",
       "      <td>2019</td>\n",
       "    </tr>\n",
       "  </tbody>\n",
       "</table>\n",
       "<p>806 rows × 8 columns</p>\n",
       "</div>"
      ],
      "text/plain": [
       "          Date                Description   Amount Transaction Type  \\\n",
       "0   2018-01-01                     Amazon    11.11            debit   \n",
       "1   2018-01-02           Mortgage Payment  1247.44            debit   \n",
       "2   2018-01-02            Thai Restaurant    24.22            debit   \n",
       "3   2018-01-03        Credit Card Payment  2298.09           credit   \n",
       "4   2018-01-04                    Netflix    11.76            debit   \n",
       "..         ...                        ...      ...              ...   \n",
       "801 2019-09-27          Biweekly Paycheck  2250.00           credit   \n",
       "802 2019-09-28                         BP    33.46            debit   \n",
       "803 2019-09-28                     Sheetz     4.27            debit   \n",
       "804 2019-09-30                  Starbucks     1.75            debit   \n",
       "805 2019-09-30  Internet Service Provider    75.00            debit   \n",
       "\n",
       "                Category   Account Name  Month  Year  \n",
       "0               Shopping  Platinum Card      1  2018  \n",
       "1        Mortgage & Rent       Checking      1  2018  \n",
       "2            Restaurants    Silver Card      1  2018  \n",
       "3    Credit Card Payment  Platinum Card      1  2018  \n",
       "4          Movies & DVDs  Platinum Card      1  2018  \n",
       "..                   ...            ...    ...   ...  \n",
       "801             Paycheck       Checking      9  2019  \n",
       "802           Gas & Fuel  Platinum Card      9  2019  \n",
       "803           Gas & Fuel  Platinum Card      9  2019  \n",
       "804         Coffee Shops  Platinum Card      9  2019  \n",
       "805             Internet       Checking      9  2019  \n",
       "\n",
       "[806 rows x 8 columns]"
      ]
     },
     "execution_count": 25,
     "metadata": {},
     "output_type": "execute_result"
    }
   ],
   "source": [
    "df"
   ]
  },
  {
   "cell_type": "code",
   "execution_count": 26,
   "id": "542f2308",
   "metadata": {},
   "outputs": [
    {
     "data": {
      "text/plain": [
       "(806, 8)"
      ]
     },
     "execution_count": 26,
     "metadata": {},
     "output_type": "execute_result"
    }
   ],
   "source": [
    "df.shape"
   ]
  },
  {
   "cell_type": "code",
   "execution_count": 29,
   "id": "05ef430d",
   "metadata": {},
   "outputs": [
    {
     "data": {
      "text/plain": [
       "Year  Month\n",
       "2018  1        10094.34\n",
       "      2         8385.80\n",
       "      3        10821.66\n",
       "      4        13196.42\n",
       "      5        16483.58\n",
       "      6         9683.07\n",
       "      7         7635.32\n",
       "      8         9775.33\n",
       "      9         8521.70\n",
       "      10        7870.58\n",
       "      11        8982.61\n",
       "      12        9063.09\n",
       "2019  1         9956.75\n",
       "      2         7663.41\n",
       "      3        11033.76\n",
       "      4        10761.44\n",
       "      5        10014.52\n",
       "      6        16513.95\n",
       "      7         9790.46\n",
       "      8        11570.27\n",
       "      9        12535.48\n",
       "Name: Amount, dtype: float64"
      ]
     },
     "execution_count": 29,
     "metadata": {},
     "output_type": "execute_result"
    }
   ],
   "source": [
    "# Agrupar por mes y año, y calcular la suma de los montos\n",
    "gasto_mensual = df.groupby(['Year','Month'])['Amount'].sum()\n",
    "gasto_mensual"
   ]
  },
  {
   "cell_type": "code",
   "execution_count": 31,
   "id": "ef520cce",
   "metadata": {},
   "outputs": [
    {
     "data": {
      "image/png": "[encoded data removed]",
      "text/plain": [
       "<Figure size 1000x600 with 1 Axes>"
      ]
     },
     "metadata": {},
     "output_type": "display_data"
    }
   ],
   "source": [
    "# Visualizar los resultados (gráfico de líneas)\n",
    "plt.figure(figsize=(10,6))\n",
    "gasto_mensual.plot(kind='line',marker = 'o',color = 'red')\n",
    "plt.title('Patron de Gastos Mensuales')\n",
    "plt.xlabel('Mes')\n",
    "plt.ylabel('Gastos Total ($)')\n",
    "plt.xticks(rotation = 45)\n",
    "plt.grid(True)\n",
    "plt.tight_layout()\n",
    "plt.show()"
   ]
  },
  {
   "cell_type": "markdown",
   "id": "81515f79",
   "metadata": {},
   "source": [
    "¿Cuál es la distribución de gastos entre tarjetas y cuentas bancarias?"
   ]
  },
  {
   "cell_type": "code",
   "execution_count": 35,
   "id": "d132dd7d",
   "metadata": {},
   "outputs": [
    {
     "data": {
      "text/plain": [
       "Index(['Date', 'Description', 'Amount', 'Transaction Type', 'Category',\n",
       "       'Account Name', 'Month', 'Year'],\n",
       "      dtype='object')"
      ]
     },
     "execution_count": 35,
     "metadata": {},
     "output_type": "execute_result"
    }
   ],
   "source": [
    "df.columns"
   ]
  },
  {
   "cell_type": "code",
   "execution_count": 36,
   "id": "fb8e76cd",
   "metadata": {},
   "outputs": [
    {
     "data": {
      "text/html": [
       "<div>\n",
       "<style scoped>\n",
       "    .dataframe tbody tr th:only-of-type {\n",
       "        vertical-align: middle;\n",
       "    }\n",
       "\n",
       "    .dataframe tbody tr th {\n",
       "        vertical-align: top;\n",
       "    }\n",
       "\n",
       "    .dataframe thead th {\n",
       "        text-align: right;\n",
       "    }\n",
       "</style>\n",
       "<table border=\"1\" class=\"dataframe\">\n",
       "  <thead>\n",
       "    <tr style=\"text-align: right;\">\n",
       "      <th></th>\n",
       "      <th>Date</th>\n",
       "      <th>Description</th>\n",
       "      <th>Amount</th>\n",
       "      <th>Transaction Type</th>\n",
       "      <th>Category</th>\n",
       "      <th>Account Name</th>\n",
       "      <th>Month</th>\n",
       "      <th>Year</th>\n",
       "    </tr>\n",
       "  </thead>\n",
       "  <tbody>\n",
       "    <tr>\n",
       "      <th>0</th>\n",
       "      <td>2018-01-01</td>\n",
       "      <td>Amazon</td>\n",
       "      <td>11.11</td>\n",
       "      <td>debit</td>\n",
       "      <td>Shopping</td>\n",
       "      <td>Platinum Card</td>\n",
       "      <td>1</td>\n",
       "      <td>2018</td>\n",
       "    </tr>\n",
       "    <tr>\n",
       "      <th>1</th>\n",
       "      <td>2018-01-02</td>\n",
       "      <td>Mortgage Payment</td>\n",
       "      <td>1247.44</td>\n",
       "      <td>debit</td>\n",
       "      <td>Mortgage &amp; Rent</td>\n",
       "      <td>Checking</td>\n",
       "      <td>1</td>\n",
       "      <td>2018</td>\n",
       "    </tr>\n",
       "    <tr>\n",
       "      <th>2</th>\n",
       "      <td>2018-01-02</td>\n",
       "      <td>Thai Restaurant</td>\n",
       "      <td>24.22</td>\n",
       "      <td>debit</td>\n",
       "      <td>Restaurants</td>\n",
       "      <td>Silver Card</td>\n",
       "      <td>1</td>\n",
       "      <td>2018</td>\n",
       "    </tr>\n",
       "    <tr>\n",
       "      <th>3</th>\n",
       "      <td>2018-01-03</td>\n",
       "      <td>Credit Card Payment</td>\n",
       "      <td>2298.09</td>\n",
       "      <td>credit</td>\n",
       "      <td>Credit Card Payment</td>\n",
       "      <td>Platinum Card</td>\n",
       "      <td>1</td>\n",
       "      <td>2018</td>\n",
       "    </tr>\n",
       "    <tr>\n",
       "      <th>4</th>\n",
       "      <td>2018-01-04</td>\n",
       "      <td>Netflix</td>\n",
       "      <td>11.76</td>\n",
       "      <td>debit</td>\n",
       "      <td>Movies &amp; DVDs</td>\n",
       "      <td>Platinum Card</td>\n",
       "      <td>1</td>\n",
       "      <td>2018</td>\n",
       "    </tr>\n",
       "    <tr>\n",
       "      <th>...</th>\n",
       "      <td>...</td>\n",
       "      <td>...</td>\n",
       "      <td>...</td>\n",
       "      <td>...</td>\n",
       "      <td>...</td>\n",
       "      <td>...</td>\n",
       "      <td>...</td>\n",
       "      <td>...</td>\n",
       "    </tr>\n",
       "    <tr>\n",
       "      <th>801</th>\n",
       "      <td>2019-09-27</td>\n",
       "      <td>Biweekly Paycheck</td>\n",
       "      <td>2250.00</td>\n",
       "      <td>credit</td>\n",
       "      <td>Paycheck</td>\n",
       "      <td>Checking</td>\n",
       "      <td>9</td>\n",
       "      <td>2019</td>\n",
       "    </tr>\n",
       "    <tr>\n",
       "      <th>802</th>\n",
       "      <td>2019-09-28</td>\n",
       "      <td>BP</td>\n",
       "      <td>33.46</td>\n",
       "      <td>debit</td>\n",
       "      <td>Gas &amp; Fuel</td>\n",
       "      <td>Platinum Card</td>\n",
       "      <td>9</td>\n",
       "      <td>2019</td>\n",
       "    </tr>\n",
       "    <tr>\n",
       "      <th>803</th>\n",
       "      <td>2019-09-28</td>\n",
       "      <td>Sheetz</td>\n",
       "      <td>4.27</td>\n",
       "      <td>debit</td>\n",
       "      <td>Gas &amp; Fuel</td>\n",
       "      <td>Platinum Card</td>\n",
       "      <td>9</td>\n",
       "      <td>2019</td>\n",
       "    </tr>\n",
       "    <tr>\n",
       "      <th>804</th>\n",
       "      <td>2019-09-30</td>\n",
       "      <td>Starbucks</td>\n",
       "      <td>1.75</td>\n",
       "      <td>debit</td>\n",
       "      <td>Coffee Shops</td>\n",
       "      <td>Platinum Card</td>\n",
       "      <td>9</td>\n",
       "      <td>2019</td>\n",
       "    </tr>\n",
       "    <tr>\n",
       "      <th>805</th>\n",
       "      <td>2019-09-30</td>\n",
       "      <td>Internet Service Provider</td>\n",
       "      <td>75.00</td>\n",
       "      <td>debit</td>\n",
       "      <td>Internet</td>\n",
       "      <td>Checking</td>\n",
       "      <td>9</td>\n",
       "      <td>2019</td>\n",
       "    </tr>\n",
       "  </tbody>\n",
       "</table>\n",
       "<p>806 rows × 8 columns</p>\n",
       "</div>"
      ],
      "text/plain": [
       "          Date                Description   Amount Transaction Type  \\\n",
       "0   2018-01-01                     Amazon    11.11            debit   \n",
       "1   2018-01-02           Mortgage Payment  1247.44            debit   \n",
       "2   2018-01-02            Thai Restaurant    24.22            debit   \n",
       "3   2018-01-03        Credit Card Payment  2298.09           credit   \n",
       "4   2018-01-04                    Netflix    11.76            debit   \n",
       "..         ...                        ...      ...              ...   \n",
       "801 2019-09-27          Biweekly Paycheck  2250.00           credit   \n",
       "802 2019-09-28                         BP    33.46            debit   \n",
       "803 2019-09-28                     Sheetz     4.27            debit   \n",
       "804 2019-09-30                  Starbucks     1.75            debit   \n",
       "805 2019-09-30  Internet Service Provider    75.00            debit   \n",
       "\n",
       "                Category   Account Name  Month  Year  \n",
       "0               Shopping  Platinum Card      1  2018  \n",
       "1        Mortgage & Rent       Checking      1  2018  \n",
       "2            Restaurants    Silver Card      1  2018  \n",
       "3    Credit Card Payment  Platinum Card      1  2018  \n",
       "4          Movies & DVDs  Platinum Card      1  2018  \n",
       "..                   ...            ...    ...   ...  \n",
       "801             Paycheck       Checking      9  2019  \n",
       "802           Gas & Fuel  Platinum Card      9  2019  \n",
       "803           Gas & Fuel  Platinum Card      9  2019  \n",
       "804         Coffee Shops  Platinum Card      9  2019  \n",
       "805             Internet       Checking      9  2019  \n",
       "\n",
       "[806 rows x 8 columns]"
      ]
     },
     "execution_count": 36,
     "metadata": {},
     "output_type": "execute_result"
    }
   ],
   "source": [
    "df"
   ]
  },
  {
   "cell_type": "markdown",
   "id": "aa14a1cb",
   "metadata": {},
   "source": [
    "¿Cuál es la distribución de gastos entre tarjetas y cuentas bancarias?"
   ]
  },
  {
   "cell_type": "code",
   "execution_count": 38,
   "id": "949cd4e3",
   "metadata": {},
   "outputs": [
    {
     "data": {
      "text/plain": [
       "Account Name\n",
       "Checking         176248.14\n",
       "Platinum Card     30136.24\n",
       "Silver Card       13969.16\n",
       "Name: Amount, dtype: float64"
      ]
     },
     "execution_count": 38,
     "metadata": {},
     "output_type": "execute_result"
    }
   ],
   "source": [
    "# Agrupar por tipo de cuenta o tarjeta y calcular la suma de los montos\n",
    "gasto_por_tipo = df.groupby(['Account Name'])['Amount'].sum()\n",
    "gasto_por_tipo"
   ]
  },
  {
   "cell_type": "code",
   "execution_count": 48,
   "id": "ca91b24f",
   "metadata": {},
   "outputs": [
    {
     "data": {
      "image/png": "[encoded data removed]",
      "text/plain": [
       "<Figure size 700x800 with 1 Axes>"
      ]
     },
     "metadata": {},
     "output_type": "display_data"
    }
   ],
   "source": [
    "# Visualizar los resultados (gráfico circular)\n",
    "plt.figure(figsize = (7,8))\n",
    "plt.pie(gasto_por_tipo,labels = gasto_por_tipo.index,autopct = '%1.1f%%',startangle=140)\n",
    "plt.axis('equal')\n",
    "plt.tight_layout()\n",
    "plt.show()"
   ]
  },
  {
   "cell_type": "markdown",
   "id": "88d1a3cb",
   "metadata": {},
   "source": [
    "¿Cuáles son las principales categorías de gastos?"
   ]
  },
  {
   "cell_type": "code",
   "execution_count": 44,
   "id": "5bb1b6ef",
   "metadata": {},
   "outputs": [
    {
     "data": {
      "text/plain": [
       "Category\n",
       "Paycheck               93750.00\n",
       "Credit Card Payment    63561.12\n",
       "Mortgage & Rent        24754.50\n",
       "Home Improvement       19092.87\n",
       "Groceries               2795.21\n",
       "Utilities               2776.00\n",
       "Restaurants             2613.02\n",
       "Shopping                1973.24\n",
       "Gas & Fuel              1715.17\n",
       "Mobile Phone            1680.40\n",
       "Name: Amount, dtype: float64"
      ]
     },
     "execution_count": 44,
     "metadata": {},
     "output_type": "execute_result"
    }
   ],
   "source": [
    "# Identificar las principales categorías de gastos y calcular los montos totales asociados a cada una\n",
    "gasto_por_categoria.head(10)"
   ]
  },
  {
   "cell_type": "code",
   "execution_count": 45,
   "id": "95a87d12",
   "metadata": {},
   "outputs": [
    {
     "name": "stdout",
     "output_type": "stream",
     "text": [
      "Principales transacciones en la categoría 'Paycheck':\n",
      "Biweekly Paycheck    46\n",
      "Name: Description, dtype: int64\n",
      "\n",
      "\n",
      "Principales transacciones en la categoría 'Credit Card Payment':\n",
      "Credit Card Payment    143\n",
      "Name: Description, dtype: int64\n",
      "\n",
      "\n",
      "Principales transacciones en la categoría 'Mortgage & Rent':\n",
      "Mortgage Payment    21\n",
      "Name: Description, dtype: int64\n",
      "\n",
      "\n",
      "Principales transacciones en la categoría 'Home Improvement':\n",
      "Hardware Store             34\n",
      "Mike's Construction Co.     2\n",
      "Name: Description, dtype: int64\n",
      "\n",
      "\n",
      "Principales transacciones en la categoría 'Groceries':\n",
      "Grocery Store      103\n",
      "Blue Sky Market      1\n",
      "Food Truck           1\n",
      "Name: Description, dtype: int64\n",
      "\n",
      "\n",
      "Principales transacciones en la categoría 'Utilities':\n",
      "Gas Company           21\n",
      "City Water Charges    21\n",
      "Power Company         21\n",
      "Name: Description, dtype: int64\n",
      "\n",
      "\n",
      "Principales transacciones en la categoría 'Restaurants':\n",
      "American Tavern      22\n",
      "Brunch Restaurant    11\n",
      "Thai Restaurant       9\n",
      "Fancy Restaurant      7\n",
      "Greek Restaurant      7\n",
      "Name: Description, dtype: int64\n",
      "\n",
      "\n",
      "Principales transacciones en la categoría 'Shopping':\n",
      "Amazon    59\n",
      "Target     1\n",
      "Name: Description, dtype: int64\n",
      "\n",
      "\n",
      "Principales transacciones en la categoría 'Gas & Fuel':\n",
      "BP             20\n",
      "Shell          18\n",
      "QuikTrip        5\n",
      "Valero          2\n",
      "Gas Station     1\n",
      "Name: Description, dtype: int64\n",
      "\n",
      "\n",
      "Principales transacciones en la categoría 'Mobile Phone':\n",
      "Phone Company    21\n",
      "Name: Description, dtype: int64\n",
      "\n",
      "\n",
      "Principales transacciones en la categoría 'Internet':\n",
      "Internet Service Provider    21\n",
      "Name: Description, dtype: int64\n",
      "\n",
      "\n",
      "Principales transacciones en la categoría 'Auto Insurance':\n",
      "State Farm    18\n",
      "Name: Description, dtype: int64\n",
      "\n",
      "\n",
      "Principales transacciones en la categoría 'Electronics & Software':\n",
      "Best Buy    4\n",
      "Name: Description, dtype: int64\n",
      "\n",
      "\n",
      "Principales transacciones en la categoría 'Alcohol & Bars':\n",
      "Brewing Company     22\n",
      "Liquor Store         1\n",
      "Irish Restaurant     1\n",
      "American Tavern      1\n",
      "Name: Description, dtype: int64\n",
      "\n",
      "\n",
      "Principales transacciones en la categoría 'Haircut':\n",
      "Barbershop    13\n",
      "Name: Description, dtype: int64\n",
      "\n",
      "\n",
      "Principales transacciones en la categoría 'Fast Food':\n",
      "Pizza Place    6\n",
      "Chick-Fil-A    4\n",
      "Bojangles      2\n",
      "Wendy's        1\n",
      "Starbucks      1\n",
      "Name: Description, dtype: int64\n",
      "\n",
      "\n",
      "Principales transacciones en la categoría 'Music':\n",
      "Spotify    21\n",
      "Name: Description, dtype: int64\n",
      "\n",
      "\n",
      "Principales transacciones en la categoría 'Movies & DVDs':\n",
      "Netflix          12\n",
      "Movie Theater     4\n",
      "Amazon Video      2\n",
      "Name: Description, dtype: int64\n",
      "\n",
      "\n",
      "Principales transacciones en la categoría 'Coffee Shops':\n",
      "Starbucks    31\n",
      "Name: Description, dtype: int64\n",
      "\n",
      "\n",
      "Principales transacciones en la categoría 'Television':\n",
      "Netflix    8\n",
      "Name: Description, dtype: int64\n",
      "\n",
      "\n",
      "Principales transacciones en la categoría 'Food & Dining':\n",
      "Seafood Restaurant    1\n",
      "American Tavern       1\n",
      "Name: Description, dtype: int64\n",
      "\n",
      "\n",
      "Principales transacciones en la categoría 'Entertainment':\n",
      "Movie Theater    1\n",
      "Name: Description, dtype: int64\n",
      "\n",
      "\n"
     ]
    }
   ],
   "source": [
    "# Analizar los impulsores del gasto dentro de cada categoría\n",
    "for categoria in gasto_por_categoria.index:\n",
    "    gastos_categoria = df[df['Category'] == categoria]\n",
    "    transacciones_comunes = gastos_categoria['Description'].value_counts().head(5)  # Top 5 transacciones comunes\n",
    "    print(f\"Principales transacciones en la categoría '{categoria}':\")\n",
    "    print(transacciones_comunes)\n",
    "    print(\"\\n\")"
   ]
  },
  {
   "cell_type": "markdown",
   "id": "4a93c7eb",
   "metadata": {},
   "source": [
    "¿Cuáles son los días de la semana con más gastos?"
   ]
  },
  {
   "cell_type": "code",
   "execution_count": 49,
   "id": "8c4e10dc",
   "metadata": {},
   "outputs": [],
   "source": [
    "# Agregar una columna para el día de la semana (0 = lunes, 6 = domingo)\n",
    "\n",
    "df['Day_of_Week'] = df['Date'].dt.dayofweek"
   ]
  },
  {
   "cell_type": "code",
   "execution_count": 50,
   "id": "6e023785",
   "metadata": {},
   "outputs": [
    {
     "data": {
      "text/html": [
       "<div>\n",
       "<style scoped>\n",
       "    .dataframe tbody tr th:only-of-type {\n",
       "        vertical-align: middle;\n",
       "    }\n",
       "\n",
       "    .dataframe tbody tr th {\n",
       "        vertical-align: top;\n",
       "    }\n",
       "\n",
       "    .dataframe thead th {\n",
       "        text-align: right;\n",
       "    }\n",
       "</style>\n",
       "<table border=\"1\" class=\"dataframe\">\n",
       "  <thead>\n",
       "    <tr style=\"text-align: right;\">\n",
       "      <th></th>\n",
       "      <th>Date</th>\n",
       "      <th>Description</th>\n",
       "      <th>Amount</th>\n",
       "      <th>Transaction Type</th>\n",
       "      <th>Category</th>\n",
       "      <th>Account Name</th>\n",
       "      <th>Month</th>\n",
       "      <th>Year</th>\n",
       "      <th>Day_of_Week</th>\n",
       "    </tr>\n",
       "  </thead>\n",
       "  <tbody>\n",
       "    <tr>\n",
       "      <th>0</th>\n",
       "      <td>2018-01-01</td>\n",
       "      <td>Amazon</td>\n",
       "      <td>11.11</td>\n",
       "      <td>debit</td>\n",
       "      <td>Shopping</td>\n",
       "      <td>Platinum Card</td>\n",
       "      <td>1</td>\n",
       "      <td>2018</td>\n",
       "      <td>0</td>\n",
       "    </tr>\n",
       "    <tr>\n",
       "      <th>1</th>\n",
       "      <td>2018-01-02</td>\n",
       "      <td>Mortgage Payment</td>\n",
       "      <td>1247.44</td>\n",
       "      <td>debit</td>\n",
       "      <td>Mortgage &amp; Rent</td>\n",
       "      <td>Checking</td>\n",
       "      <td>1</td>\n",
       "      <td>2018</td>\n",
       "      <td>1</td>\n",
       "    </tr>\n",
       "    <tr>\n",
       "      <th>2</th>\n",
       "      <td>2018-01-02</td>\n",
       "      <td>Thai Restaurant</td>\n",
       "      <td>24.22</td>\n",
       "      <td>debit</td>\n",
       "      <td>Restaurants</td>\n",
       "      <td>Silver Card</td>\n",
       "      <td>1</td>\n",
       "      <td>2018</td>\n",
       "      <td>1</td>\n",
       "    </tr>\n",
       "    <tr>\n",
       "      <th>3</th>\n",
       "      <td>2018-01-03</td>\n",
       "      <td>Credit Card Payment</td>\n",
       "      <td>2298.09</td>\n",
       "      <td>credit</td>\n",
       "      <td>Credit Card Payment</td>\n",
       "      <td>Platinum Card</td>\n",
       "      <td>1</td>\n",
       "      <td>2018</td>\n",
       "      <td>2</td>\n",
       "    </tr>\n",
       "    <tr>\n",
       "      <th>4</th>\n",
       "      <td>2018-01-04</td>\n",
       "      <td>Netflix</td>\n",
       "      <td>11.76</td>\n",
       "      <td>debit</td>\n",
       "      <td>Movies &amp; DVDs</td>\n",
       "      <td>Platinum Card</td>\n",
       "      <td>1</td>\n",
       "      <td>2018</td>\n",
       "      <td>3</td>\n",
       "    </tr>\n",
       "    <tr>\n",
       "      <th>...</th>\n",
       "      <td>...</td>\n",
       "      <td>...</td>\n",
       "      <td>...</td>\n",
       "      <td>...</td>\n",
       "      <td>...</td>\n",
       "      <td>...</td>\n",
       "      <td>...</td>\n",
       "      <td>...</td>\n",
       "      <td>...</td>\n",
       "    </tr>\n",
       "    <tr>\n",
       "      <th>801</th>\n",
       "      <td>2019-09-27</td>\n",
       "      <td>Biweekly Paycheck</td>\n",
       "      <td>2250.00</td>\n",
       "      <td>credit</td>\n",
       "      <td>Paycheck</td>\n",
       "      <td>Checking</td>\n",
       "      <td>9</td>\n",
       "      <td>2019</td>\n",
       "      <td>4</td>\n",
       "    </tr>\n",
       "    <tr>\n",
       "      <th>802</th>\n",
       "      <td>2019-09-28</td>\n",
       "      <td>BP</td>\n",
       "      <td>33.46</td>\n",
       "      <td>debit</td>\n",
       "      <td>Gas &amp; Fuel</td>\n",
       "      <td>Platinum Card</td>\n",
       "      <td>9</td>\n",
       "      <td>2019</td>\n",
       "      <td>5</td>\n",
       "    </tr>\n",
       "    <tr>\n",
       "      <th>803</th>\n",
       "      <td>2019-09-28</td>\n",
       "      <td>Sheetz</td>\n",
       "      <td>4.27</td>\n",
       "      <td>debit</td>\n",
       "      <td>Gas &amp; Fuel</td>\n",
       "      <td>Platinum Card</td>\n",
       "      <td>9</td>\n",
       "      <td>2019</td>\n",
       "      <td>5</td>\n",
       "    </tr>\n",
       "    <tr>\n",
       "      <th>804</th>\n",
       "      <td>2019-09-30</td>\n",
       "      <td>Starbucks</td>\n",
       "      <td>1.75</td>\n",
       "      <td>debit</td>\n",
       "      <td>Coffee Shops</td>\n",
       "      <td>Platinum Card</td>\n",
       "      <td>9</td>\n",
       "      <td>2019</td>\n",
       "      <td>0</td>\n",
       "    </tr>\n",
       "    <tr>\n",
       "      <th>805</th>\n",
       "      <td>2019-09-30</td>\n",
       "      <td>Internet Service Provider</td>\n",
       "      <td>75.00</td>\n",
       "      <td>debit</td>\n",
       "      <td>Internet</td>\n",
       "      <td>Checking</td>\n",
       "      <td>9</td>\n",
       "      <td>2019</td>\n",
       "      <td>0</td>\n",
       "    </tr>\n",
       "  </tbody>\n",
       "</table>\n",
       "<p>806 rows × 9 columns</p>\n",
       "</div>"
      ],
      "text/plain": [
       "          Date                Description   Amount Transaction Type  \\\n",
       "0   2018-01-01                     Amazon    11.11            debit   \n",
       "1   2018-01-02           Mortgage Payment  1247.44            debit   \n",
       "2   2018-01-02            Thai Restaurant    24.22            debit   \n",
       "3   2018-01-03        Credit Card Payment  2298.09           credit   \n",
       "4   2018-01-04                    Netflix    11.76            debit   \n",
       "..         ...                        ...      ...              ...   \n",
       "801 2019-09-27          Biweekly Paycheck  2250.00           credit   \n",
       "802 2019-09-28                         BP    33.46            debit   \n",
       "803 2019-09-28                     Sheetz     4.27            debit   \n",
       "804 2019-09-30                  Starbucks     1.75            debit   \n",
       "805 2019-09-30  Internet Service Provider    75.00            debit   \n",
       "\n",
       "                Category   Account Name  Month  Year  Day_of_Week  \n",
       "0               Shopping  Platinum Card      1  2018            0  \n",
       "1        Mortgage & Rent       Checking      1  2018            1  \n",
       "2            Restaurants    Silver Card      1  2018            1  \n",
       "3    Credit Card Payment  Platinum Card      1  2018            2  \n",
       "4          Movies & DVDs  Platinum Card      1  2018            3  \n",
       "..                   ...            ...    ...   ...          ...  \n",
       "801             Paycheck       Checking      9  2019            4  \n",
       "802           Gas & Fuel  Platinum Card      9  2019            5  \n",
       "803           Gas & Fuel  Platinum Card      9  2019            5  \n",
       "804         Coffee Shops  Platinum Card      9  2019            0  \n",
       "805             Internet       Checking      9  2019            0  \n",
       "\n",
       "[806 rows x 9 columns]"
      ]
     },
     "execution_count": 50,
     "metadata": {},
     "output_type": "execute_result"
    }
   ],
   "source": [
    "df"
   ]
  },
  {
   "cell_type": "code",
   "execution_count": 60,
   "id": "ec152dcd",
   "metadata": {},
   "outputs": [
    {
     "data": {
      "text/plain": [
       "Day_of_Week\n",
       "0     28961.75\n",
       "1     19148.71\n",
       "2     14765.98\n",
       "3     28846.23\n",
       "4    120297.97\n",
       "5      4870.78\n",
       "6      3462.12\n",
       "Name: Amount, dtype: float64"
      ]
     },
     "execution_count": 60,
     "metadata": {},
     "output_type": "execute_result"
    }
   ],
   "source": [
    "# Calcular el total de gastos por día de la semana\n",
    "gastos_por_dia = df.groupby('Day_of_Week')['Amount'].sum()\n",
    "gastos_por_dia"
   ]
  },
  {
   "cell_type": "code",
   "execution_count": 52,
   "id": "ba55688e",
   "metadata": {},
   "outputs": [],
   "source": [
    "# Mapear los números de los días de la semana a nombres\n",
    "dias_semana = ['Lunes', 'Martes', 'Miércoles', 'Jueves', 'Viernes', 'Sábado', 'Domingo']\n"
   ]
  },
  {
   "cell_type": "code",
   "execution_count": 55,
   "id": "32be0ef4",
   "metadata": {},
   "outputs": [
    {
     "data": {
      "image/png": "[encoded data removed]",
      "text/plain": [
       "<Figure size 1000x600 with 1 Axes>"
      ]
     },
     "metadata": {},
     "output_type": "display_data"
    }
   ],
   "source": [
    "plt.figure(figsize=(10,6))\n",
    "plt.bar(dias_semana,gastos_por_dia,color='g')\n",
    "plt.title('Gastos por Dia de la Semana')\n",
    "plt.xlabel('Dia de la Semana')\n",
    "plt.ylabel('Gasto Total ($)')\n",
    "plt.tight_layout()\n",
    "plt.show()"
   ]
  },
  {
   "cell_type": "markdown",
   "id": "2e88fb5d",
   "metadata": {},
   "source": [
    "¿Cuál es el porcentaje de gastos respecto a los ingresos (paychecks)?"
   ]
  },
  {
   "cell_type": "code",
   "execution_count": 58,
   "id": "30e3ecbc",
   "metadata": {},
   "outputs": [],
   "source": [
    "#Calcular el total de ingresos (paychecks)\n",
    "total_ingresos = df[df['Transaction Type']=='credit']['Amount'].sum()\n",
    "\n",
    "# Calcular el total de gastos\n",
    "total_gastos = df[df['Transaction Type']=='debit']['Amount'].sum()"
   ]
  },
  {
   "cell_type": "code",
   "execution_count": 69,
   "id": "f71d360f",
   "metadata": {},
   "outputs": [
    {
     "name": "stdout",
     "output_type": "stream",
     "text": [
      "El porcentaje de gastos respecto a los ingresos es: 77.32 %\n"
     ]
    }
   ],
   "source": [
    "# Calcular el porcentaje de gastos respecto a los ingresos\n",
    "\n",
    "porcentaje_gastos_ingresos = (total_gastos / total_ingresos) * 100\n",
    "\n",
    "print(f\"El porcentaje de gastos respecto a los ingresos es: {porcentaje_gastos_ingresos:.2f} %\")"
   ]
  },
  {
   "cell_type": "code",
   "execution_count": 63,
   "id": "6195e743",
   "metadata": {},
   "outputs": [
    {
     "data": {
      "text/html": [
       "<div>\n",
       "<style scoped>\n",
       "    .dataframe tbody tr th:only-of-type {\n",
       "        vertical-align: middle;\n",
       "    }\n",
       "\n",
       "    .dataframe tbody tr th {\n",
       "        vertical-align: top;\n",
       "    }\n",
       "\n",
       "    .dataframe thead th {\n",
       "        text-align: right;\n",
       "    }\n",
       "</style>\n",
       "<table border=\"1\" class=\"dataframe\">\n",
       "  <thead>\n",
       "    <tr style=\"text-align: right;\">\n",
       "      <th></th>\n",
       "      <th>Date</th>\n",
       "      <th>Description</th>\n",
       "      <th>Amount</th>\n",
       "      <th>Transaction Type</th>\n",
       "      <th>Category</th>\n",
       "      <th>Account Name</th>\n",
       "      <th>Month</th>\n",
       "      <th>Year</th>\n",
       "      <th>Day_of_Week</th>\n",
       "    </tr>\n",
       "  </thead>\n",
       "  <tbody>\n",
       "    <tr>\n",
       "      <th>0</th>\n",
       "      <td>2018-01-01</td>\n",
       "      <td>Amazon</td>\n",
       "      <td>11.11</td>\n",
       "      <td>debit</td>\n",
       "      <td>Shopping</td>\n",
       "      <td>Platinum Card</td>\n",
       "      <td>1</td>\n",
       "      <td>2018</td>\n",
       "      <td>0</td>\n",
       "    </tr>\n",
       "    <tr>\n",
       "      <th>1</th>\n",
       "      <td>2018-01-02</td>\n",
       "      <td>Mortgage Payment</td>\n",
       "      <td>1247.44</td>\n",
       "      <td>debit</td>\n",
       "      <td>Mortgage &amp; Rent</td>\n",
       "      <td>Checking</td>\n",
       "      <td>1</td>\n",
       "      <td>2018</td>\n",
       "      <td>1</td>\n",
       "    </tr>\n",
       "    <tr>\n",
       "      <th>2</th>\n",
       "      <td>2018-01-02</td>\n",
       "      <td>Thai Restaurant</td>\n",
       "      <td>24.22</td>\n",
       "      <td>debit</td>\n",
       "      <td>Restaurants</td>\n",
       "      <td>Silver Card</td>\n",
       "      <td>1</td>\n",
       "      <td>2018</td>\n",
       "      <td>1</td>\n",
       "    </tr>\n",
       "    <tr>\n",
       "      <th>3</th>\n",
       "      <td>2018-01-03</td>\n",
       "      <td>Credit Card Payment</td>\n",
       "      <td>2298.09</td>\n",
       "      <td>credit</td>\n",
       "      <td>Credit Card Payment</td>\n",
       "      <td>Platinum Card</td>\n",
       "      <td>1</td>\n",
       "      <td>2018</td>\n",
       "      <td>2</td>\n",
       "    </tr>\n",
       "    <tr>\n",
       "      <th>4</th>\n",
       "      <td>2018-01-04</td>\n",
       "      <td>Netflix</td>\n",
       "      <td>11.76</td>\n",
       "      <td>debit</td>\n",
       "      <td>Movies &amp; DVDs</td>\n",
       "      <td>Platinum Card</td>\n",
       "      <td>1</td>\n",
       "      <td>2018</td>\n",
       "      <td>3</td>\n",
       "    </tr>\n",
       "    <tr>\n",
       "      <th>...</th>\n",
       "      <td>...</td>\n",
       "      <td>...</td>\n",
       "      <td>...</td>\n",
       "      <td>...</td>\n",
       "      <td>...</td>\n",
       "      <td>...</td>\n",
       "      <td>...</td>\n",
       "      <td>...</td>\n",
       "      <td>...</td>\n",
       "    </tr>\n",
       "    <tr>\n",
       "      <th>801</th>\n",
       "      <td>2019-09-27</td>\n",
       "      <td>Biweekly Paycheck</td>\n",
       "      <td>2250.00</td>\n",
       "      <td>credit</td>\n",
       "      <td>Paycheck</td>\n",
       "      <td>Checking</td>\n",
       "      <td>9</td>\n",
       "      <td>2019</td>\n",
       "      <td>4</td>\n",
       "    </tr>\n",
       "    <tr>\n",
       "      <th>802</th>\n",
       "      <td>2019-09-28</td>\n",
       "      <td>BP</td>\n",
       "      <td>33.46</td>\n",
       "      <td>debit</td>\n",
       "      <td>Gas &amp; Fuel</td>\n",
       "      <td>Platinum Card</td>\n",
       "      <td>9</td>\n",
       "      <td>2019</td>\n",
       "      <td>5</td>\n",
       "    </tr>\n",
       "    <tr>\n",
       "      <th>803</th>\n",
       "      <td>2019-09-28</td>\n",
       "      <td>Sheetz</td>\n",
       "      <td>4.27</td>\n",
       "      <td>debit</td>\n",
       "      <td>Gas &amp; Fuel</td>\n",
       "      <td>Platinum Card</td>\n",
       "      <td>9</td>\n",
       "      <td>2019</td>\n",
       "      <td>5</td>\n",
       "    </tr>\n",
       "    <tr>\n",
       "      <th>804</th>\n",
       "      <td>2019-09-30</td>\n",
       "      <td>Starbucks</td>\n",
       "      <td>1.75</td>\n",
       "      <td>debit</td>\n",
       "      <td>Coffee Shops</td>\n",
       "      <td>Platinum Card</td>\n",
       "      <td>9</td>\n",
       "      <td>2019</td>\n",
       "      <td>0</td>\n",
       "    </tr>\n",
       "    <tr>\n",
       "      <th>805</th>\n",
       "      <td>2019-09-30</td>\n",
       "      <td>Internet Service Provider</td>\n",
       "      <td>75.00</td>\n",
       "      <td>debit</td>\n",
       "      <td>Internet</td>\n",
       "      <td>Checking</td>\n",
       "      <td>9</td>\n",
       "      <td>2019</td>\n",
       "      <td>0</td>\n",
       "    </tr>\n",
       "  </tbody>\n",
       "</table>\n",
       "<p>806 rows × 9 columns</p>\n",
       "</div>"
      ],
      "text/plain": [
       "          Date                Description   Amount Transaction Type  \\\n",
       "0   2018-01-01                     Amazon    11.11            debit   \n",
       "1   2018-01-02           Mortgage Payment  1247.44            debit   \n",
       "2   2018-01-02            Thai Restaurant    24.22            debit   \n",
       "3   2018-01-03        Credit Card Payment  2298.09           credit   \n",
       "4   2018-01-04                    Netflix    11.76            debit   \n",
       "..         ...                        ...      ...              ...   \n",
       "801 2019-09-27          Biweekly Paycheck  2250.00           credit   \n",
       "802 2019-09-28                         BP    33.46            debit   \n",
       "803 2019-09-28                     Sheetz     4.27            debit   \n",
       "804 2019-09-30                  Starbucks     1.75            debit   \n",
       "805 2019-09-30  Internet Service Provider    75.00            debit   \n",
       "\n",
       "                Category   Account Name  Month  Year  Day_of_Week  \n",
       "0               Shopping  Platinum Card      1  2018            0  \n",
       "1        Mortgage & Rent       Checking      1  2018            1  \n",
       "2            Restaurants    Silver Card      1  2018            1  \n",
       "3    Credit Card Payment  Platinum Card      1  2018            2  \n",
       "4          Movies & DVDs  Platinum Card      1  2018            3  \n",
       "..                   ...            ...    ...   ...          ...  \n",
       "801             Paycheck       Checking      9  2019            4  \n",
       "802           Gas & Fuel  Platinum Card      9  2019            5  \n",
       "803           Gas & Fuel  Platinum Card      9  2019            5  \n",
       "804         Coffee Shops  Platinum Card      9  2019            0  \n",
       "805             Internet       Checking      9  2019            0  \n",
       "\n",
       "[806 rows x 9 columns]"
      ]
     },
     "execution_count": 63,
     "metadata": {},
     "output_type": "execute_result"
    }
   ],
   "source": [
    "df"
   ]
  },
  {
   "cell_type": "markdown",
   "id": "cc094e81",
   "metadata": {},
   "source": [
    "¿Cuánto se gasta en servicios públicos (utilities) en comparación con otras categorías?"
   ]
  },
  {
   "cell_type": "code",
   "execution_count": 74,
   "id": "a959ebd2",
   "metadata": {},
   "outputs": [],
   "source": [
    "# Filtrar las transacciones relacionadas con servicios públicos\n",
    "gastos_utilities = df[df['Category']=='Utilities']"
   ]
  },
  {
   "cell_type": "code",
   "execution_count": 75,
   "id": "4ce00a45",
   "metadata": {},
   "outputs": [],
   "source": [
    "# Calcular el monto total gastado en servicios públicos\n",
    "total_gastos_utilities = gastos_utilities['Amount'].sum()"
   ]
  },
  {
   "cell_type": "code",
   "execution_count": 78,
   "id": "8e1b49dc",
   "metadata": {},
   "outputs": [],
   "source": [
    "# Calcular el monto total gastado en todas las categorías\n",
    "total_gastos_categorias = df['Amount'].sum()"
   ]
  },
  {
   "cell_type": "code",
   "execution_count": 79,
   "id": "86249a72",
   "metadata": {},
   "outputs": [
    {
     "name": "stdout",
     "output_type": "stream",
     "text": [
      "El porcentaje de gastos en servicios públicos es: 2.89% del total de gastos.\n"
     ]
    }
   ],
   "source": [
    "# Calcular el porcentaje de gastos en servicios públicos respecto al total de gastos\n",
    "porcentaje_gastos_utilities = (total_gastos_utilities / total_gastos) * 100\n",
    "\n",
    "print(f\"El porcentaje de gastos en servicios públicos es: {porcentaje_gastos_utilities:.2f}% del total de gastos.\")"
   ]
  },
  {
   "cell_type": "code",
   "execution_count": null,
   "id": "29c3a078",
   "metadata": {},
   "outputs": [],
   "source": []
  },
  {
   "cell_type": "code",
   "execution_count": null,
   "id": "6b1f92e7",
   "metadata": {},
   "outputs": [],
   "source": []
  },
  {
   "cell_type": "code",
   "execution_count": null,
   "id": "5ac3fac4",
   "metadata": {},
   "outputs": [],
   "source": []
  }
 ],
 "metadata": {
  "kernelspec": {
   "display_name": "Python 3 (ipykernel)",
   "language": "python",
   "name": "python3"
  },
  "language_info": {
   "codemirror_mode": {
    "name": "ipython",
    "version": 3
   },
   "file_extension": ".py",
   "mimetype": "text/x-python",
   "name": "python",
   "nbconvert_exporter": "python",
   "pygments_lexer": "ipython3",
   "version": "3.7.16"
  }
 },
 "nbformat": 4,
 "nbformat_minor": 5
}
